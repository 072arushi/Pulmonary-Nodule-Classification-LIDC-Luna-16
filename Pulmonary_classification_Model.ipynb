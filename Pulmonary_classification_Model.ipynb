{
  "cells": [
    {
      "cell_type": "markdown",
      "metadata": {
        "id": "view-in-github",
        "colab_type": "text"
      },
      "source": [
        
      ]
    },
    {
      "cell_type": "code",
      "source": [
        "#mounting drive\n",
        "from google.colab import drive\n",
        "drive.mount('/content/drive')"
      ],
      "metadata": {
        "colab": {
          "base_uri": "https://localhost:8080/"
        },
        "id": "vno97pNOUcGE",
        "outputId": "bf893686-711f-490b-d3c6-e9beafd85f38"
      },
      "execution_count": null,
      "outputs": [
        {
          "output_type": "stream",
          "name": "stdout",
          "text": [
            "Mounted at /content/drive\n"
          ]
        }
      ]
    },
    {
      "cell_type": "code",
      "execution_count": null,
      "metadata": {
        "id": "GBH1047ewpix"
      },
      "outputs": [],
      "source": [
        "#Importing Libraries\n",
        "import pandas as pd       \n",
        "import matplotlib as mat\n",
        "import matplotlib.pyplot as plt    \n",
        "import numpy as np\n",
        "import seaborn as sns\n",
        "%matplotlib inline\n",
        "\n",
        "pd.options.display.max_colwidth = 100\n",
        "\n",
        "import random\n",
        "import os\n",
        "\n",
        "from numpy.random import seed\n",
        "seed(42)\n",
        "\n",
        "random.seed(42)\n",
        "os.environ['PYTHONHASHSEED'] = str(42)\n",
        "os.environ['TF_DETERMINISTIC_OPS'] = '1'\n",
        "\n",
        "from sklearn.model_selection import train_test_split\n",
        "from sklearn import metrics\n",
        "from sklearn.metrics import accuracy_score\n",
        "\n",
        "import tensorflow as tf\n",
        "from tensorflow import keras\n",
        "from tensorflow.keras import layers\n",
        "from tensorflow.keras import callbacks\n",
        "from tensorflow.keras.models import Model\n",
        "from tensorflow.keras.preprocessing.image import ImageDataGenerator\n",
        "\n",
        "import glob\n",
        "from tensorflow.random import set_seed\n",
        "set_seed(42)\n",
        "\n",
        "import warnings\n",
        "warnings.filterwarnings('ignore')"
      ]
    },
    {
      "cell_type": "code",
      "execution_count": null,
      "metadata": {
        "id": "GIK1wtGoQ77R"
      },
      "outputs": [],
      "source": [
        "#!pip install opencv-python-headless"
      ]
    },
    {
      "cell_type": "code",
      "execution_count": null,
      "metadata": {
        "id": "yZ9fCIwEx7NB"
      },
      "outputs": [],
      "source": [
        "IMG_SIZE = 224\n",
        "BATCH = 32\n",
        "SEED = 42"
      ]
    },
    {
      "cell_type": "code",
      "execution_count": null,
      "metadata": {
        "id": "SvMRpyN-x_HY"
      },
      "outputs": [],
      "source": [
        "# Importing the dataset\n",
        "main_path = \"FOLDER PATH\"\n",
        "\n",
        "\n",
        "train_path = os.path.join(main_path,\"train\")\n",
        "test_path=os.path.join(main_path,\"test\")\n",
        "\n",
        "train_normal = glob.glob(train_path+\"NORMAL_IMAGES*.JPG\")   \n",
        "train_abnormal = glob.glob(train_path+\"ABNORMAL_IMAGES*.JPG\") \n",
        "\n",
        "test_normal = glob.glob(test_path+\"NORMAL_IMAGES*.JPG\") \n",
        "test_abnormal = glob.glob(test_path+\"ABNORMAL_IMAGES*.JPG\") "
      ]
    },
    {
      "cell_type": "code",
      "execution_count": null,
      "metadata": {
        "id": "2Na1izb_0mDJ"
      },
      "outputs": [],
      "source": [
        "# Forming the dataframe\n",
        "train_list = [x for x in train_normal]\n",
        "train_list.extend([x for x in train_abnormal])\n",
        "\n",
        "df_train = pd.DataFrame(np.concatenate([['Normal']*len(train_normal) , ['Abnormal']*len(train_abnormal)]), columns = ['class'])\n",
        "df_train['image'] = [x for x in train_list]\n",
        "\n",
        "test_list = [x for x in test_normal]\n",
        "test_list.extend([x for x in test_abnormal])\n",
        "\n",
        "df_test = pd.DataFrame(np.concatenate([['Normal']*len(test_normal) , ['Abnormal']*len(test_abnormal)]), columns = ['class'])\n",
        "df_test['image'] = [x for x in test_list]\n"
      ]
    },
    {
      "cell_type": "code",
      "execution_count": null,
      "metadata": {
        "colab": {
          "base_uri": "https://localhost:8080/",
          "height": 424
        },
        "id": "iAAbc6p_00rx",
        "outputId": "ea9ed0b9-c0ce-485f-fb6c-5b6cdf3f902a"
      },
      "outputs": [
        {
          "output_type": "execute_result",
          "data": {
            "text/plain": [
              "        class                                                       image\n",
              "0      Normal       /content/drive/MyDrive/LIDC nodes new/train/1,2/4.JPG\n",
              "1      Normal     /content/drive/MyDrive/LIDC nodes new/train/1,2/9.2.JPG\n",
              "2      Normal    /content/drive/MyDrive/LIDC nodes new/train/1,2/10.3.JPG\n",
              "3      Normal    /content/drive/MyDrive/LIDC nodes new/train/1,2/11.4.JPG\n",
              "4      Normal    /content/drive/MyDrive/LIDC nodes new/train/1,2/11.7.JPG\n",
              "..        ...                                                         ...\n",
              "785  Abnormal  /content/drive/MyDrive/LIDC nodes new/train/4,5/1002.4.jpg\n",
              "786  Abnormal   /content/drive/MyDrive/LIDC nodes new/train/4,5/982.3.jpg\n",
              "787  Abnormal   /content/drive/MyDrive/LIDC nodes new/train/4,5/978.5.jpg\n",
              "788  Abnormal  /content/drive/MyDrive/LIDC nodes new/train/4,5/1004.1.jpg\n",
              "789  Abnormal  /content/drive/MyDrive/LIDC nodes new/train/4,5/1003.7.jpg\n",
              "\n",
              "[790 rows x 2 columns]"
            ],
            "text/html": [
              "\n",
              "  <div id=\"df-494ed9d4-75c2-4cf9-8d8b-ddcc132ad094\">\n",
              "    <div class=\"colab-df-container\">\n",
              "      <div>\n",
              "<style scoped>\n",
              "    .dataframe tbody tr th:only-of-type {\n",
              "        vertical-align: middle;\n",
              "    }\n",
              "\n",
              "    .dataframe tbody tr th {\n",
              "        vertical-align: top;\n",
              "    }\n",
              "\n",
              "    .dataframe thead th {\n",
              "        text-align: right;\n",
              "    }\n",
              "</style>\n",
              "<table border=\"1\" class=\"dataframe\">\n",
              "  <thead>\n",
              "    <tr style=\"text-align: right;\">\n",
              "      <th></th>\n",
              "      <th>class</th>\n",
              "      <th>image</th>\n",
              "    </tr>\n",
              "  </thead>\n",
              "  <tbody>\n",
              "    <tr>\n",
              "      <th>0</th>\n",
              "      <td>Normal</td>\n",
              "      <td>/content/drive/MyDrive/LIDC nodes new/train/1,2/4.JPG</td>\n",
              "    </tr>\n",
              "    <tr>\n",
              "      <th>1</th>\n",
              "      <td>Normal</td>\n",
              "      <td>/content/drive/MyDrive/LIDC nodes new/train/1,2/9.2.JPG</td>\n",
              "    </tr>\n",
              "    <tr>\n",
              "      <th>2</th>\n",
              "      <td>Normal</td>\n",
              "      <td>/content/drive/MyDrive/LIDC nodes new/train/1,2/10.3.JPG</td>\n",
              "    </tr>\n",
              "    <tr>\n",
              "      <th>3</th>\n",
              "      <td>Normal</td>\n",
              "      <td>/content/drive/MyDrive/LIDC nodes new/train/1,2/11.4.JPG</td>\n",
              "    </tr>\n",
              "    <tr>\n",
              "      <th>4</th>\n",
              "      <td>Normal</td>\n",
              "      <td>/content/drive/MyDrive/LIDC nodes new/train/1,2/11.7.JPG</td>\n",
              "    </tr>\n",
              "    <tr>\n",
              "      <th>...</th>\n",
              "      <td>...</td>\n",
              "      <td>...</td>\n",
              "    </tr>\n",
              "    <tr>\n",
              "      <th>785</th>\n",
              "      <td>Abnormal</td>\n",
              "      <td>/content/drive/MyDrive/LIDC nodes new/train/4,5/1002.4.jpg</td>\n",
              "    </tr>\n",
              "    <tr>\n",
              "      <th>786</th>\n",
              "      <td>Abnormal</td>\n",
              "      <td>/content/drive/MyDrive/LIDC nodes new/train/4,5/982.3.jpg</td>\n",
              "    </tr>\n",
              "    <tr>\n",
              "      <th>787</th>\n",
              "      <td>Abnormal</td>\n",
              "      <td>/content/drive/MyDrive/LIDC nodes new/train/4,5/978.5.jpg</td>\n",
              "    </tr>\n",
              "    <tr>\n",
              "      <th>788</th>\n",
              "      <td>Abnormal</td>\n",
              "      <td>/content/drive/MyDrive/LIDC nodes new/train/4,5/1004.1.jpg</td>\n",
              "    </tr>\n",
              "    <tr>\n",
              "      <th>789</th>\n",
              "      <td>Abnormal</td>\n",
              "      <td>/content/drive/MyDrive/LIDC nodes new/train/4,5/1003.7.jpg</td>\n",
              "    </tr>\n",
              "  </tbody>\n",
              "</table>\n",
              "<p>790 rows × 2 columns</p>\n",
              "</div>\n",
              "      <button class=\"colab-df-convert\" onclick=\"convertToInteractive('df-494ed9d4-75c2-4cf9-8d8b-ddcc132ad094')\"\n",
              "              title=\"Convert this dataframe to an interactive table.\"\n",
              "              style=\"display:none;\">\n",
              "        \n",
              "  <svg xmlns=\"http://www.w3.org/2000/svg\" height=\"24px\"viewBox=\"0 0 24 24\"\n",
              "       width=\"24px\">\n",
              "    <path d=\"M0 0h24v24H0V0z\" fill=\"none\"/>\n",
              "    <path d=\"M18.56 5.44l.94 2.06.94-2.06 2.06-.94-2.06-.94-.94-2.06-.94 2.06-2.06.94zm-11 1L8.5 8.5l.94-2.06 2.06-.94-2.06-.94L8.5 2.5l-.94 2.06-2.06.94zm10 10l.94 2.06.94-2.06 2.06-.94-2.06-.94-.94-2.06-.94 2.06-2.06.94z\"/><path d=\"M17.41 7.96l-1.37-1.37c-.4-.4-.92-.59-1.43-.59-.52 0-1.04.2-1.43.59L10.3 9.45l-7.72 7.72c-.78.78-.78 2.05 0 2.83L4 21.41c.39.39.9.59 1.41.59.51 0 1.02-.2 1.41-.59l7.78-7.78 2.81-2.81c.8-.78.8-2.07 0-2.86zM5.41 20L4 18.59l7.72-7.72 1.47 1.35L5.41 20z\"/>\n",
              "  </svg>\n",
              "      </button>\n",
              "      \n",
              "  <style>\n",
              "    .colab-df-container {\n",
              "      display:flex;\n",
              "      flex-wrap:wrap;\n",
              "      gap: 12px;\n",
              "    }\n",
              "\n",
              "    .colab-df-convert {\n",
              "      background-color: #E8F0FE;\n",
              "      border: none;\n",
              "      border-radius: 50%;\n",
              "      cursor: pointer;\n",
              "      display: none;\n",
              "      fill: #1967D2;\n",
              "      height: 32px;\n",
              "      padding: 0 0 0 0;\n",
              "      width: 32px;\n",
              "    }\n",
              "\n",
              "    .colab-df-convert:hover {\n",
              "      background-color: #E2EBFA;\n",
              "      box-shadow: 0px 1px 2px rgba(60, 64, 67, 0.3), 0px 1px 3px 1px rgba(60, 64, 67, 0.15);\n",
              "      fill: #174EA6;\n",
              "    }\n",
              "\n",
              "    [theme=dark] .colab-df-convert {\n",
              "      background-color: #3B4455;\n",
              "      fill: #D2E3FC;\n",
              "    }\n",
              "\n",
              "    [theme=dark] .colab-df-convert:hover {\n",
              "      background-color: #434B5C;\n",
              "      box-shadow: 0px 1px 3px 1px rgba(0, 0, 0, 0.15);\n",
              "      filter: drop-shadow(0px 1px 2px rgba(0, 0, 0, 0.3));\n",
              "      fill: #FFFFFF;\n",
              "    }\n",
              "  </style>\n",
              "\n",
              "      <script>\n",
              "        const buttonEl =\n",
              "          document.querySelector('#df-494ed9d4-75c2-4cf9-8d8b-ddcc132ad094 button.colab-df-convert');\n",
              "        buttonEl.style.display =\n",
              "          google.colab.kernel.accessAllowed ? 'block' : 'none';\n",
              "\n",
              "        async function convertToInteractive(key) {\n",
              "          const element = document.querySelector('#df-494ed9d4-75c2-4cf9-8d8b-ddcc132ad094');\n",
              "          const dataTable =\n",
              "            await google.colab.kernel.invokeFunction('convertToInteractive',\n",
              "                                                     [key], {});\n",
              "          if (!dataTable) return;\n",
              "\n",
              "          const docLinkHtml = 'Like what you see? Visit the ' +\n",
              "            '<a target=\"_blank\" href=https://colab.research.google.com/notebooks/data_table.ipynb>data table notebook</a>'\n",
              "            + ' to learn more about interactive tables.';\n",
              "          element.innerHTML = '';\n",
              "          dataTable['output_type'] = 'display_data';\n",
              "          await google.colab.output.renderOutput(dataTable, element);\n",
              "          const docLink = document.createElement('div');\n",
              "          docLink.innerHTML = docLinkHtml;\n",
              "          element.appendChild(docLink);\n",
              "        }\n",
              "      </script>\n",
              "    </div>\n",
              "  </div>\n",
              "  "
            ]
          },
          "metadata": {},
          "execution_count": 7
        }
      ],
      "source": [
        "df_train"
      ]
    },
    {
      "cell_type": "code",
      "execution_count": null,
      "metadata": {
        "colab": {
          "base_uri": "https://localhost:8080/",
          "height": 424
        },
        "id": "6Pa5jESt035P",
        "outputId": "3a561b7c-c2ee-45c8-9f4a-054ffa57c76e"
      },
      "outputs": [
        {
          "output_type": "execute_result",
          "data": {
            "text/plain": [
              "        class                                                     image\n",
              "0      Normal      /content/drive/MyDrive/LIDC nodes new/test/1,2/4.JPG\n",
              "1      Normal    /content/drive/MyDrive/LIDC nodes new/test/1,2/9.2.JPG\n",
              "2      Normal   /content/drive/MyDrive/LIDC nodes new/test/1,2/10.3.JPG\n",
              "3      Normal   /content/drive/MyDrive/LIDC nodes new/test/1,2/11.4.JPG\n",
              "4      Normal   /content/drive/MyDrive/LIDC nodes new/test/1,2/11.7.JPG\n",
              "..        ...                                                       ...\n",
              "216  Abnormal  /content/drive/MyDrive/LIDC nodes new/test/4,5/139.2.jpg\n",
              "217  Abnormal  /content/drive/MyDrive/LIDC nodes new/test/4,5/139.3.jpg\n",
              "218  Abnormal  /content/drive/MyDrive/LIDC nodes new/test/4,5/139.4.jpg\n",
              "219  Abnormal  /content/drive/MyDrive/LIDC nodes new/test/4,5/142.4.jpg\n",
              "220  Abnormal  /content/drive/MyDrive/LIDC nodes new/test/4,5/145.2.jpg\n",
              "\n",
              "[221 rows x 2 columns]"
            ],
            "text/html": [
              "\n",
              "  <div id=\"df-77f8a6b3-9900-4151-86ff-e2303d85e26c\">\n",
              "    <div class=\"colab-df-container\">\n",
              "      <div>\n",
              "<style scoped>\n",
              "    .dataframe tbody tr th:only-of-type {\n",
              "        vertical-align: middle;\n",
              "    }\n",
              "\n",
              "    .dataframe tbody tr th {\n",
              "        vertical-align: top;\n",
              "    }\n",
              "\n",
              "    .dataframe thead th {\n",
              "        text-align: right;\n",
              "    }\n",
              "</style>\n",
              "<table border=\"1\" class=\"dataframe\">\n",
              "  <thead>\n",
              "    <tr style=\"text-align: right;\">\n",
              "      <th></th>\n",
              "      <th>class</th>\n",
              "      <th>image</th>\n",
              "    </tr>\n",
              "  </thead>\n",
              "  <tbody>\n",
              "    <tr>\n",
              "      <th>0</th>\n",
              "      <td>Normal</td>\n",
              "      <td>/content/drive/MyDrive/LIDC nodes new/test/1,2/4.JPG</td>\n",
              "    </tr>\n",
              "    <tr>\n",
              "      <th>1</th>\n",
              "      <td>Normal</td>\n",
              "      <td>/content/drive/MyDrive/LIDC nodes new/test/1,2/9.2.JPG</td>\n",
              "    </tr>\n",
              "    <tr>\n",
              "      <th>2</th>\n",
              "      <td>Normal</td>\n",
              "      <td>/content/drive/MyDrive/LIDC nodes new/test/1,2/10.3.JPG</td>\n",
              "    </tr>\n",
              "    <tr>\n",
              "      <th>3</th>\n",
              "      <td>Normal</td>\n",
              "      <td>/content/drive/MyDrive/LIDC nodes new/test/1,2/11.4.JPG</td>\n",
              "    </tr>\n",
              "    <tr>\n",
              "      <th>4</th>\n",
              "      <td>Normal</td>\n",
              "      <td>/content/drive/MyDrive/LIDC nodes new/test/1,2/11.7.JPG</td>\n",
              "    </tr>\n",
              "    <tr>\n",
              "      <th>...</th>\n",
              "      <td>...</td>\n",
              "      <td>...</td>\n",
              "    </tr>\n",
              "    <tr>\n",
              "      <th>216</th>\n",
              "      <td>Abnormal</td>\n",
              "      <td>/content/drive/MyDrive/LIDC nodes new/test/4,5/139.2.jpg</td>\n",
              "    </tr>\n",
              "    <tr>\n",
              "      <th>217</th>\n",
              "      <td>Abnormal</td>\n",
              "      <td>/content/drive/MyDrive/LIDC nodes new/test/4,5/139.3.jpg</td>\n",
              "    </tr>\n",
              "    <tr>\n",
              "      <th>218</th>\n",
              "      <td>Abnormal</td>\n",
              "      <td>/content/drive/MyDrive/LIDC nodes new/test/4,5/139.4.jpg</td>\n",
              "    </tr>\n",
              "    <tr>\n",
              "      <th>219</th>\n",
              "      <td>Abnormal</td>\n",
              "      <td>/content/drive/MyDrive/LIDC nodes new/test/4,5/142.4.jpg</td>\n",
              "    </tr>\n",
              "    <tr>\n",
              "      <th>220</th>\n",
              "      <td>Abnormal</td>\n",
              "      <td>/content/drive/MyDrive/LIDC nodes new/test/4,5/145.2.jpg</td>\n",
              "    </tr>\n",
              "  </tbody>\n",
              "</table>\n",
              "<p>221 rows × 2 columns</p>\n",
              "</div>\n",
              "      <button class=\"colab-df-convert\" onclick=\"convertToInteractive('df-77f8a6b3-9900-4151-86ff-e2303d85e26c')\"\n",
              "              title=\"Convert this dataframe to an interactive table.\"\n",
              "              style=\"display:none;\">\n",
              "        \n",
              "  <svg xmlns=\"http://www.w3.org/2000/svg\" height=\"24px\"viewBox=\"0 0 24 24\"\n",
              "       width=\"24px\">\n",
              "    <path d=\"M0 0h24v24H0V0z\" fill=\"none\"/>\n",
              "    <path d=\"M18.56 5.44l.94 2.06.94-2.06 2.06-.94-2.06-.94-.94-2.06-.94 2.06-2.06.94zm-11 1L8.5 8.5l.94-2.06 2.06-.94-2.06-.94L8.5 2.5l-.94 2.06-2.06.94zm10 10l.94 2.06.94-2.06 2.06-.94-2.06-.94-.94-2.06-.94 2.06-2.06.94z\"/><path d=\"M17.41 7.96l-1.37-1.37c-.4-.4-.92-.59-1.43-.59-.52 0-1.04.2-1.43.59L10.3 9.45l-7.72 7.72c-.78.78-.78 2.05 0 2.83L4 21.41c.39.39.9.59 1.41.59.51 0 1.02-.2 1.41-.59l7.78-7.78 2.81-2.81c.8-.78.8-2.07 0-2.86zM5.41 20L4 18.59l7.72-7.72 1.47 1.35L5.41 20z\"/>\n",
              "  </svg>\n",
              "      </button>\n",
              "      \n",
              "  <style>\n",
              "    .colab-df-container {\n",
              "      display:flex;\n",
              "      flex-wrap:wrap;\n",
              "      gap: 12px;\n",
              "    }\n",
              "\n",
              "    .colab-df-convert {\n",
              "      background-color: #E8F0FE;\n",
              "      border: none;\n",
              "      border-radius: 50%;\n",
              "      cursor: pointer;\n",
              "      display: none;\n",
              "      fill: #1967D2;\n",
              "      height: 32px;\n",
              "      padding: 0 0 0 0;\n",
              "      width: 32px;\n",
              "    }\n",
              "\n",
              "    .colab-df-convert:hover {\n",
              "      background-color: #E2EBFA;\n",
              "      box-shadow: 0px 1px 2px rgba(60, 64, 67, 0.3), 0px 1px 3px 1px rgba(60, 64, 67, 0.15);\n",
              "      fill: #174EA6;\n",
              "    }\n",
              "\n",
              "    [theme=dark] .colab-df-convert {\n",
              "      background-color: #3B4455;\n",
              "      fill: #D2E3FC;\n",
              "    }\n",
              "\n",
              "    [theme=dark] .colab-df-convert:hover {\n",
              "      background-color: #434B5C;\n",
              "      box-shadow: 0px 1px 3px 1px rgba(0, 0, 0, 0.15);\n",
              "      filter: drop-shadow(0px 1px 2px rgba(0, 0, 0, 0.3));\n",
              "      fill: #FFFFFF;\n",
              "    }\n",
              "  </style>\n",
              "\n",
              "      <script>\n",
              "        const buttonEl =\n",
              "          document.querySelector('#df-77f8a6b3-9900-4151-86ff-e2303d85e26c button.colab-df-convert');\n",
              "        buttonEl.style.display =\n",
              "          google.colab.kernel.accessAllowed ? 'block' : 'none';\n",
              "\n",
              "        async function convertToInteractive(key) {\n",
              "          const element = document.querySelector('#df-77f8a6b3-9900-4151-86ff-e2303d85e26c');\n",
              "          const dataTable =\n",
              "            await google.colab.kernel.invokeFunction('convertToInteractive',\n",
              "                                                     [key], {});\n",
              "          if (!dataTable) return;\n",
              "\n",
              "          const docLinkHtml = 'Like what you see? Visit the ' +\n",
              "            '<a target=\"_blank\" href=https://colab.research.google.com/notebooks/data_table.ipynb>data table notebook</a>'\n",
              "            + ' to learn more about interactive tables.';\n",
              "          element.innerHTML = '';\n",
              "          dataTable['output_type'] = 'display_data';\n",
              "          await google.colab.output.renderOutput(dataTable, element);\n",
              "          const docLink = document.createElement('div');\n",
              "          docLink.innerHTML = docLinkHtml;\n",
              "          element.appendChild(docLink);\n",
              "        }\n",
              "      </script>\n",
              "    </div>\n",
              "  </div>\n",
              "  "
            ]
          },
          "metadata": {},
          "execution_count": 8
        }
      ],
      "source": [
        "df_test"
      ]
    },
    {
      "cell_type": "code",
      "execution_count": null,
      "metadata": {
        "colab": {
          "base_uri": "https://localhost:8080/",
          "height": 286
        },
        "id": "bN05bpyA8VbG",
        "outputId": "0b1b6716-79c0-4cc0-b033-0f5b983ee25f"
      },
      "outputs": [
        {
          "output_type": "display_data",
          "data": {
            "text/plain": [
              "<Figure size 432x288 with 1 Axes>"
            ],
            "image/png": "[encoded data removed]"
          },
          "metadata": {
            "needs_background": "light"
          }
        }
      ],
      "source": [
        "plt.figure(figsize=(6,4))\n",
        "\n",
        "ax = sns.countplot(x='class', data=df_train, palette=\"mako\")\n",
        "\n",
        "plt.xlabel(\"Class\", fontsize= 12)\n",
        "plt.ylabel(\"# of Samples\", fontsize= 12)\n",
        "plt.ylim(0,10000)\n",
        "plt.xticks([0,1], ['Normal', 'Abnormal'], fontsize = 11)\n",
        "\n",
        "for p in ax.patches:\n",
        "    ax.annotate((p.get_height()), (p.get_x()+0.30, p.get_height()+300), fontsize = 13)\n",
        "    \n",
        "plt.show()"
      ]
    },
    {
      "cell_type": "code",
      "execution_count": null,
      "metadata": {
        "colab": {
          "base_uri": "https://localhost:8080/",
          "height": 303
        },
        "id": "k_7EuK4u8ZW-",
        "outputId": "69b3e1fb-33b8-416f-f72c-fbab5a914297"
      },
      "outputs": [
        {
          "output_type": "display_data",
          "data": {
            "text/plain": [
              "<Figure size 504x360 with 1 Axes>"
            ],
            "image/png": "[encoded data removed]"
          },
          "metadata": {}
        }
      ],
      "source": [
        "plt.figure(figsize=(7,5))\n",
        "\n",
        "df_train['class'].value_counts().plot(kind='pie',labels = ['',''], autopct='%1.1f%%', colors = ['darkcyan','blue'], explode = [0,0.05], textprops = {\"fontsize\":15})\n",
        "\n",
        "plt.legend(labels=['Abnormal', 'Normal'])\n",
        "plt.show()"
      ]
    },
    {
      "cell_type": "code",
      "execution_count": null,
      "metadata": {
        "id": "BKPl38bRQ77Y"
      },
      "outputs": [],
      "source": [
        "import cv2"
      ]
    },
    {
      "cell_type": "code",
      "execution_count": null,
      "metadata": {
        "colab": {
          "base_uri": "https://localhost:8080/",
          "height": 788
        },
        "id": "4WJBkRYt8dg-",
        "outputId": "721810cd-d3f6-41b4-c8e2-17d6e4c89b27"
      },
      "outputs": [
        {
          "output_type": "stream",
          "name": "stdout",
          "text": [
            "Train Set - Normal\n"
          ]
        },
        {
          "output_type": "display_data",
          "data": {
            "text/plain": [
              "<Figure size 864x864 with 12 Axes>"
            ],
            "image/png": "[encoded data removed]"
          },
          "metadata": {
            "needs_background": "light"
          }
        }
      ],
      "source": [
        "print('Train Set - Normal')\n",
        "\n",
        "plt.figure(figsize=(12,12))\n",
        "\n",
        "for i in range(0, 12):\n",
        "    plt.subplot(3,4,i + 1)\n",
        "    img = cv2.imread(train_normal[i])\n",
        "    img = cv2.resize(img, (IMG_SIZE,IMG_SIZE))\n",
        "    plt.imshow(img)\n",
        "    plt.axis(\"off\")\n",
        "\n",
        "plt.tight_layout()\n",
        "\n",
        "plt.show()"
      ]
    },
    {
      "cell_type": "code",
      "execution_count": null,
      "metadata": {
        "colab": {
          "base_uri": "https://localhost:8080/",
          "height": 788
        },
        "id": "mUaoc7tw8i9W",
        "outputId": "0c4b2ae9-2cc2-4c82-e7f0-2649156904bd"
      },
      "outputs": [
        {
          "output_type": "stream",
          "name": "stdout",
          "text": [
            "Train Set - Abnormal\n"
          ]
        },
        {
          "output_type": "display_data",
          "data": {
            "text/plain": [
              "<Figure size 864x864 with 12 Axes>"
            ],
            "image/png": "[encoded data removed]"
          },
          "metadata": {
            "needs_background": "light"
          }
        }
      ],
      "source": [
        "print('Train Set - Abnormal')\n",
        "\n",
        "plt.figure(figsize=(12,12))\n",
        "\n",
        "for i in range(0, 12):\n",
        "    plt.subplot(3,4,i + 1)\n",
        "    img = cv2.imread(train_abnormal[i])\n",
        "    img = cv2.resize(img, (IMG_SIZE,IMG_SIZE))\n",
        "    plt.imshow(img)\n",
        "    plt.axis(\"off\")\n",
        "\n",
        "plt.tight_layout()\n",
        "\n",
        "plt.show()"
      ]
    },
    {
      "cell_type": "code",
      "execution_count": null,
      "metadata": {
        "colab": {
          "base_uri": "https://localhost:8080/",
          "height": 788
        },
        "id": "6ODymhZb8pEf",
        "outputId": "89df9b27-364c-4736-f13e-44211c888076"
      },
      "outputs": [
        {
          "output_type": "stream",
          "name": "stdout",
          "text": [
            "Test Set - Normal\n"
          ]
        },
        {
          "output_type": "display_data",
          "data": {
            "text/plain": [
              "<Figure size 864x864 with 12 Axes>"
            ],
            "image/png": "[encoded data removed]"
          },
          "metadata": {
            "needs_background": "light"
          }
        }
      ],
      "source": [
        "print('Test Set - Normal')\n",
        "\n",
        "plt.figure(figsize=(12,12))\n",
        "\n",
        "for i in range(0, 12):\n",
        "    plt.subplot(3,4,i + 1)\n",
        "    img = cv2.imread(test_normal[i])\n",
        "    img = cv2.resize(img, (IMG_SIZE,IMG_SIZE))\n",
        "    plt.imshow(img)\n",
        "    plt.axis(\"off\")\n",
        "\n",
        "plt.tight_layout()\n",
        "\n",
        "plt.show()"
      ]
    },
    {
      "cell_type": "code",
      "execution_count": null,
      "metadata": {
        "colab": {
          "base_uri": "https://localhost:8080/",
          "height": 788
        },
        "id": "dC-ceDX78srm",
        "outputId": "c23f0ffc-b2a1-41a9-d4a2-5d531de31dfb"
      },
      "outputs": [
        {
          "output_type": "stream",
          "name": "stdout",
          "text": [
            "Test Set - Abnormal\n"
          ]
        },
        {
          "output_type": "display_data",
          "data": {
            "text/plain": [
              "<Figure size 864x864 with 12 Axes>"
            ],
            "image/png": "[encoded data removed]"
          },
          "metadata": {
            "needs_background": "light"
          }
        }
      ],
      "source": [
        "print('Test Set - Abnormal')\n",
        "\n",
        "plt.figure(figsize=(12,12))\n",
        "\n",
        "for i in range(0, 12):\n",
        "    plt.subplot(3,4,i + 1)\n",
        "    img = cv2.imread(test_abnormal[i])\n",
        "    img = cv2.resize(img, (IMG_SIZE,IMG_SIZE))\n",
        "    plt.imshow(img)\n",
        "    plt.axis(\"off\")\n",
        "\n",
        "plt.tight_layout()\n",
        "\n",
        "plt.show()"
      ]
    },
    {
      "cell_type": "code",
      "execution_count": null,
      "metadata": {
        "id": "m65ZmSzw8vgW"
      },
      "outputs": [],
      "source": [
        "train_df, val_df = train_test_split(df_train, test_size = 0.20, random_state = SEED, stratify = df_train['class'])"
      ]
    },
    {
      "cell_type": "code",
      "execution_count": null,
      "metadata": {
        "colab": {
          "base_uri": "https://localhost:8080/",
          "height": 424
        },
        "id": "Zv_AJthy8ze-",
        "outputId": "e5e477ce-72d3-4593-a5ea-215337068600"
      },
      "outputs": [
        {
          "output_type": "execute_result",
          "data": {
            "text/plain": [
              "        class                                                      image\n",
              "625  Abnormal  /content/drive/MyDrive/LIDC nodes new/train/4,5/153.2.jpg\n",
              "442  Abnormal   /content/drive/MyDrive/LIDC nodes new/train/4,5/31.1.JPG\n",
              "193    Normal  /content/drive/MyDrive/LIDC nodes new/train/1,2/735.1.jpg\n",
              "423  Abnormal    /content/drive/MyDrive/LIDC nodes new/train/4,5/7.2.JPG\n",
              "14     Normal   /content/drive/MyDrive/LIDC nodes new/train/1,2/27.2.JPG\n",
              "..        ...                                                        ...\n",
              "427  Abnormal  /content/drive/MyDrive/LIDC nodes new/train/4,5/11.10.JPG\n",
              "669  Abnormal  /content/drive/MyDrive/LIDC nodes new/train/4,5/775.2.jpg\n",
              "475  Abnormal   /content/drive/MyDrive/LIDC nodes new/train/4,5/55.4.JPG\n",
              "482  Abnormal     /content/drive/MyDrive/LIDC nodes new/train/4,5/59.JPG\n",
              "98     Normal  /content/drive/MyDrive/LIDC nodes new/train/1,2/640.2.JPG\n",
              "\n",
              "[632 rows x 2 columns]"
            ],
            "text/html": [
              "\n",
              "  <div id=\"df-b649d1f6-a465-4bd7-956c-e789ec580f03\">\n",
              "    <div class=\"colab-df-container\">\n",
              "      <div>\n",
              "<style scoped>\n",
              "    .dataframe tbody tr th:only-of-type {\n",
              "        vertical-align: middle;\n",
              "    }\n",
              "\n",
              "    .dataframe tbody tr th {\n",
              "        vertical-align: top;\n",
              "    }\n",
              "\n",
              "    .dataframe thead th {\n",
              "        text-align: right;\n",
              "    }\n",
              "</style>\n",
              "<table border=\"1\" class=\"dataframe\">\n",
              "  <thead>\n",
              "    <tr style=\"text-align: right;\">\n",
              "      <th></th>\n",
              "      <th>class</th>\n",
              "      <th>image</th>\n",
              "    </tr>\n",
              "  </thead>\n",
              "  <tbody>\n",
              "    <tr>\n",
              "      <th>625</th>\n",
              "      <td>Abnormal</td>\n",
              "      <td>/content/drive/MyDrive/LIDC nodes new/train/4,5/153.2.jpg</td>\n",
              "    </tr>\n",
              "    <tr>\n",
              "      <th>442</th>\n",
              "      <td>Abnormal</td>\n",
              "      <td>/content/drive/MyDrive/LIDC nodes new/train/4,5/31.1.JPG</td>\n",
              "    </tr>\n",
              "    <tr>\n",
              "      <th>193</th>\n",
              "      <td>Normal</td>\n",
              "      <td>/content/drive/MyDrive/LIDC nodes new/train/1,2/735.1.jpg</td>\n",
              "    </tr>\n",
              "    <tr>\n",
              "      <th>423</th>\n",
              "      <td>Abnormal</td>\n",
              "      <td>/content/drive/MyDrive/LIDC nodes new/train/4,5/7.2.JPG</td>\n",
              "    </tr>\n",
              "    <tr>\n",
              "      <th>14</th>\n",
              "      <td>Normal</td>\n",
              "      <td>/content/drive/MyDrive/LIDC nodes new/train/1,2/27.2.JPG</td>\n",
              "    </tr>\n",
              "    <tr>\n",
              "      <th>...</th>\n",
              "      <td>...</td>\n",
              "      <td>...</td>\n",
              "    </tr>\n",
              "    <tr>\n",
              "      <th>427</th>\n",
              "      <td>Abnormal</td>\n",
              "      <td>/content/drive/MyDrive/LIDC nodes new/train/4,5/11.10.JPG</td>\n",
              "    </tr>\n",
              "    <tr>\n",
              "      <th>669</th>\n",
              "      <td>Abnormal</td>\n",
              "      <td>/content/drive/MyDrive/LIDC nodes new/train/4,5/775.2.jpg</td>\n",
              "    </tr>\n",
              "    <tr>\n",
              "      <th>475</th>\n",
              "      <td>Abnormal</td>\n",
              "      <td>/content/drive/MyDrive/LIDC nodes new/train/4,5/55.4.JPG</td>\n",
              "    </tr>\n",
              "    <tr>\n",
              "      <th>482</th>\n",
              "      <td>Abnormal</td>\n",
              "      <td>/content/drive/MyDrive/LIDC nodes new/train/4,5/59.JPG</td>\n",
              "    </tr>\n",
              "    <tr>\n",
              "      <th>98</th>\n",
              "      <td>Normal</td>\n",
              "      <td>/content/drive/MyDrive/LIDC nodes new/train/1,2/640.2.JPG</td>\n",
              "    </tr>\n",
              "  </tbody>\n",
              "</table>\n",
              "<p>632 rows × 2 columns</p>\n",
              "</div>\n",
              "      <button class=\"colab-df-convert\" onclick=\"convertToInteractive('df-b649d1f6-a465-4bd7-956c-e789ec580f03')\"\n",
              "              title=\"Convert this dataframe to an interactive table.\"\n",
              "              style=\"display:none;\">\n",
              "        \n",
              "  <svg xmlns=\"http://www.w3.org/2000/svg\" height=\"24px\"viewBox=\"0 0 24 24\"\n",
              "       width=\"24px\">\n",
              "    <path d=\"M0 0h24v24H0V0z\" fill=\"none\"/>\n",
              "    <path d=\"M18.56 5.44l.94 2.06.94-2.06 2.06-.94-2.06-.94-.94-2.06-.94 2.06-2.06.94zm-11 1L8.5 8.5l.94-2.06 2.06-.94-2.06-.94L8.5 2.5l-.94 2.06-2.06.94zm10 10l.94 2.06.94-2.06 2.06-.94-2.06-.94-.94-2.06-.94 2.06-2.06.94z\"/><path d=\"M17.41 7.96l-1.37-1.37c-.4-.4-.92-.59-1.43-.59-.52 0-1.04.2-1.43.59L10.3 9.45l-7.72 7.72c-.78.78-.78 2.05 0 2.83L4 21.41c.39.39.9.59 1.41.59.51 0 1.02-.2 1.41-.59l7.78-7.78 2.81-2.81c.8-.78.8-2.07 0-2.86zM5.41 20L4 18.59l7.72-7.72 1.47 1.35L5.41 20z\"/>\n",
              "  </svg>\n",
              "      </button>\n",
              "      \n",
              "  <style>\n",
              "    .colab-df-container {\n",
              "      display:flex;\n",
              "      flex-wrap:wrap;\n",
              "      gap: 12px;\n",
              "    }\n",
              "\n",
              "    .colab-df-convert {\n",
              "      background-color: #E8F0FE;\n",
              "      border: none;\n",
              "      border-radius: 50%;\n",
              "      cursor: pointer;\n",
              "      display: none;\n",
              "      fill: #1967D2;\n",
              "      height: 32px;\n",
              "      padding: 0 0 0 0;\n",
              "      width: 32px;\n",
              "    }\n",
              "\n",
              "    .colab-df-convert:hover {\n",
              "      background-color: #E2EBFA;\n",
              "      box-shadow: 0px 1px 2px rgba(60, 64, 67, 0.3), 0px 1px 3px 1px rgba(60, 64, 67, 0.15);\n",
              "      fill: #174EA6;\n",
              "    }\n",
              "\n",
              "    [theme=dark] .colab-df-convert {\n",
              "      background-color: #3B4455;\n",
              "      fill: #D2E3FC;\n",
              "    }\n",
              "\n",
              "    [theme=dark] .colab-df-convert:hover {\n",
              "      background-color: #434B5C;\n",
              "      box-shadow: 0px 1px 3px 1px rgba(0, 0, 0, 0.15);\n",
              "      filter: drop-shadow(0px 1px 2px rgba(0, 0, 0, 0.3));\n",
              "      fill: #FFFFFF;\n",
              "    }\n",
              "  </style>\n",
              "\n",
              "      <script>\n",
              "        const buttonEl =\n",
              "          document.querySelector('#df-b649d1f6-a465-4bd7-956c-e789ec580f03 button.colab-df-convert');\n",
              "        buttonEl.style.display =\n",
              "          google.colab.kernel.accessAllowed ? 'block' : 'none';\n",
              "\n",
              "        async function convertToInteractive(key) {\n",
              "          const element = document.querySelector('#df-b649d1f6-a465-4bd7-956c-e789ec580f03');\n",
              "          const dataTable =\n",
              "            await google.colab.kernel.invokeFunction('convertToInteractive',\n",
              "                                                     [key], {});\n",
              "          if (!dataTable) return;\n",
              "\n",
              "          const docLinkHtml = 'Like what you see? Visit the ' +\n",
              "            '<a target=\"_blank\" href=https://colab.research.google.com/notebooks/data_table.ipynb>data table notebook</a>'\n",
              "            + ' to learn more about interactive tables.';\n",
              "          element.innerHTML = '';\n",
              "          dataTable['output_type'] = 'display_data';\n",
              "          await google.colab.output.renderOutput(dataTable, element);\n",
              "          const docLink = document.createElement('div');\n",
              "          docLink.innerHTML = docLinkHtml;\n",
              "          element.appendChild(docLink);\n",
              "        }\n",
              "      </script>\n",
              "    </div>\n",
              "  </div>\n",
              "  "
            ]
          },
          "metadata": {},
          "execution_count": 17
        }
      ],
      "source": [
        "train_df"
      ]
    },
    {
      "cell_type": "code",
      "execution_count": null,
      "metadata": {
        "colab": {
          "base_uri": "https://localhost:8080/",
          "height": 424
        },
        "id": "KHFwylXu81t9",
        "outputId": "3f126d5b-0ab1-4be1-d922-afd98e09cdf7"
      },
      "outputs": [
        {
          "output_type": "execute_result",
          "data": {
            "text/plain": [
              "        class                                                      image\n",
              "507  Abnormal   /content/drive/MyDrive/LIDC nodes new/train/4,5/76.2.JPG\n",
              "617  Abnormal    /content/drive/MyDrive/LIDC nodes new/train/4,5/715.jpg\n",
              "729  Abnormal  /content/drive/MyDrive/LIDC nodes new/train/4,5/857.2.jpg\n",
              "537  Abnormal  /content/drive/MyDrive/LIDC nodes new/train/4,5/617.2.JPG\n",
              "468  Abnormal   /content/drive/MyDrive/LIDC nodes new/train/4,5/51.2.JPG\n",
              "..        ...                                                        ...\n",
              "228    Normal  /content/drive/MyDrive/LIDC nodes new/train/1,2/780.1.jpg\n",
              "474  Abnormal   /content/drive/MyDrive/LIDC nodes new/train/4,5/55.3.JPG\n",
              "105    Normal  /content/drive/MyDrive/LIDC nodes new/train/1,2/648.1.JPG\n",
              "141    Normal  /content/drive/MyDrive/LIDC nodes new/train/1,2/118.6.jpg\n",
              "521  Abnormal   /content/drive/MyDrive/LIDC nodes new/train/4,5/93.1.JPG\n",
              "\n",
              "[158 rows x 2 columns]"
            ],
            "text/html": [
              "\n",
              "  <div id=\"df-ed65cde7-f22f-469c-bb83-fe5cee90bf61\">\n",
              "    <div class=\"colab-df-container\">\n",
              "      <div>\n",
              "<style scoped>\n",
              "    .dataframe tbody tr th:only-of-type {\n",
              "        vertical-align: middle;\n",
              "    }\n",
              "\n",
              "    .dataframe tbody tr th {\n",
              "        vertical-align: top;\n",
              "    }\n",
              "\n",
              "    .dataframe thead th {\n",
              "        text-align: right;\n",
              "    }\n",
              "</style>\n",
              "<table border=\"1\" class=\"dataframe\">\n",
              "  <thead>\n",
              "    <tr style=\"text-align: right;\">\n",
              "      <th></th>\n",
              "      <th>class</th>\n",
              "      <th>image</th>\n",
              "    </tr>\n",
              "  </thead>\n",
              "  <tbody>\n",
              "    <tr>\n",
              "      <th>507</th>\n",
              "      <td>Abnormal</td>\n",
              "      <td>/content/drive/MyDrive/LIDC nodes new/train/4,5/76.2.JPG</td>\n",
              "    </tr>\n",
              "    <tr>\n",
              "      <th>617</th>\n",
              "      <td>Abnormal</td>\n",
              "      <td>/content/drive/MyDrive/LIDC nodes new/train/4,5/715.jpg</td>\n",
              "    </tr>\n",
              "    <tr>\n",
              "      <th>729</th>\n",
              "      <td>Abnormal</td>\n",
              "      <td>/content/drive/MyDrive/LIDC nodes new/train/4,5/857.2.jpg</td>\n",
              "    </tr>\n",
              "    <tr>\n",
              "      <th>537</th>\n",
              "      <td>Abnormal</td>\n",
              "      <td>/content/drive/MyDrive/LIDC nodes new/train/4,5/617.2.JPG</td>\n",
              "    </tr>\n",
              "    <tr>\n",
              "      <th>468</th>\n",
              "      <td>Abnormal</td>\n",
              "      <td>/content/drive/MyDrive/LIDC nodes new/train/4,5/51.2.JPG</td>\n",
              "    </tr>\n",
              "    <tr>\n",
              "      <th>...</th>\n",
              "      <td>...</td>\n",
              "      <td>...</td>\n",
              "    </tr>\n",
              "    <tr>\n",
              "      <th>228</th>\n",
              "      <td>Normal</td>\n",
              "      <td>/content/drive/MyDrive/LIDC nodes new/train/1,2/780.1.jpg</td>\n",
              "    </tr>\n",
              "    <tr>\n",
              "      <th>474</th>\n",
              "      <td>Abnormal</td>\n",
              "      <td>/content/drive/MyDrive/LIDC nodes new/train/4,5/55.3.JPG</td>\n",
              "    </tr>\n",
              "    <tr>\n",
              "      <th>105</th>\n",
              "      <td>Normal</td>\n",
              "      <td>/content/drive/MyDrive/LIDC nodes new/train/1,2/648.1.JPG</td>\n",
              "    </tr>\n",
              "    <tr>\n",
              "      <th>141</th>\n",
              "      <td>Normal</td>\n",
              "      <td>/content/drive/MyDrive/LIDC nodes new/train/1,2/118.6.jpg</td>\n",
              "    </tr>\n",
              "    <tr>\n",
              "      <th>521</th>\n",
              "      <td>Abnormal</td>\n",
              "      <td>/content/drive/MyDrive/LIDC nodes new/train/4,5/93.1.JPG</td>\n",
              "    </tr>\n",
              "  </tbody>\n",
              "</table>\n",
              "<p>158 rows × 2 columns</p>\n",
              "</div>\n",
              "      <button class=\"colab-df-convert\" onclick=\"convertToInteractive('df-ed65cde7-f22f-469c-bb83-fe5cee90bf61')\"\n",
              "              title=\"Convert this dataframe to an interactive table.\"\n",
              "              style=\"display:none;\">\n",
              "        \n",
              "  <svg xmlns=\"http://www.w3.org/2000/svg\" height=\"24px\"viewBox=\"0 0 24 24\"\n",
              "       width=\"24px\">\n",
              "    <path d=\"M0 0h24v24H0V0z\" fill=\"none\"/>\n",
              "    <path d=\"M18.56 5.44l.94 2.06.94-2.06 2.06-.94-2.06-.94-.94-2.06-.94 2.06-2.06.94zm-11 1L8.5 8.5l.94-2.06 2.06-.94-2.06-.94L8.5 2.5l-.94 2.06-2.06.94zm10 10l.94 2.06.94-2.06 2.06-.94-2.06-.94-.94-2.06-.94 2.06-2.06.94z\"/><path d=\"M17.41 7.96l-1.37-1.37c-.4-.4-.92-.59-1.43-.59-.52 0-1.04.2-1.43.59L10.3 9.45l-7.72 7.72c-.78.78-.78 2.05 0 2.83L4 21.41c.39.39.9.59 1.41.59.51 0 1.02-.2 1.41-.59l7.78-7.78 2.81-2.81c.8-.78.8-2.07 0-2.86zM5.41 20L4 18.59l7.72-7.72 1.47 1.35L5.41 20z\"/>\n",
              "  </svg>\n",
              "      </button>\n",
              "      \n",
              "  <style>\n",
              "    .colab-df-container {\n",
              "      display:flex;\n",
              "      flex-wrap:wrap;\n",
              "      gap: 12px;\n",
              "    }\n",
              "\n",
              "    .colab-df-convert {\n",
              "      background-color: #E8F0FE;\n",
              "      border: none;\n",
              "      border-radius: 50%;\n",
              "      cursor: pointer;\n",
              "      display: none;\n",
              "      fill: #1967D2;\n",
              "      height: 32px;\n",
              "      padding: 0 0 0 0;\n",
              "      width: 32px;\n",
              "    }\n",
              "\n",
              "    .colab-df-convert:hover {\n",
              "      background-color: #E2EBFA;\n",
              "      box-shadow: 0px 1px 2px rgba(60, 64, 67, 0.3), 0px 1px 3px 1px rgba(60, 64, 67, 0.15);\n",
              "      fill: #174EA6;\n",
              "    }\n",
              "\n",
              "    [theme=dark] .colab-df-convert {\n",
              "      background-color: #3B4455;\n",
              "      fill: #D2E3FC;\n",
              "    }\n",
              "\n",
              "    [theme=dark] .colab-df-convert:hover {\n",
              "      background-color: #434B5C;\n",
              "      box-shadow: 0px 1px 3px 1px rgba(0, 0, 0, 0.15);\n",
              "      filter: drop-shadow(0px 1px 2px rgba(0, 0, 0, 0.3));\n",
              "      fill: #FFFFFF;\n",
              "    }\n",
              "  </style>\n",
              "\n",
              "      <script>\n",
              "        const buttonEl =\n",
              "          document.querySelector('#df-ed65cde7-f22f-469c-bb83-fe5cee90bf61 button.colab-df-convert');\n",
              "        buttonEl.style.display =\n",
              "          google.colab.kernel.accessAllowed ? 'block' : 'none';\n",
              "\n",
              "        async function convertToInteractive(key) {\n",
              "          const element = document.querySelector('#df-ed65cde7-f22f-469c-bb83-fe5cee90bf61');\n",
              "          const dataTable =\n",
              "            await google.colab.kernel.invokeFunction('convertToInteractive',\n",
              "                                                     [key], {});\n",
              "          if (!dataTable) return;\n",
              "\n",
              "          const docLinkHtml = 'Like what you see? Visit the ' +\n",
              "            '<a target=\"_blank\" href=https://colab.research.google.com/notebooks/data_table.ipynb>data table notebook</a>'\n",
              "            + ' to learn more about interactive tables.';\n",
              "          element.innerHTML = '';\n",
              "          dataTable['output_type'] = 'display_data';\n",
              "          await google.colab.output.renderOutput(dataTable, element);\n",
              "          const docLink = document.createElement('div');\n",
              "          docLink.innerHTML = docLinkHtml;\n",
              "          element.appendChild(docLink);\n",
              "        }\n",
              "      </script>\n",
              "    </div>\n",
              "  </div>\n",
              "  "
            ]
          },
          "metadata": {},
          "execution_count": 18
        }
      ],
      "source": [
        "val_df"
      ]
    },
    {
      "cell_type": "markdown",
      "metadata": {
        "id": "r_AltXA3_v-X"
      },
      "source": [
        "CNN MODEL"
      ]
    },
    {
      "cell_type": "code",
      "execution_count": null,
      "metadata": {
        "colab": {
          "base_uri": "https://localhost:8080/"
        },
        "id": "FDsDrVOt84gG",
        "outputId": "03042a92-96d0-4ad0-af52-1f84a96d534d"
      },
      "outputs": [
        {
          "output_type": "stream",
          "name": "stdout",
          "text": [
            "Found 632 validated image filenames belonging to 2 classes.\n",
            "Found 158 validated image filenames belonging to 2 classes.\n",
            "Found 221 validated image filenames belonging to 2 classes.\n"
          ]
        }
      ],
      "source": [
        "train_datagen = ImageDataGenerator(rescale=1/255.,\n",
        "                                  rotation_range=20,\n",
        "      width_shift_range=0.2,\n",
        "      height_shift_range=0.2,\n",
        "      shear_range=0.2,\n",
        "      zoom_range=0.2,\n",
        "      horizontal_flip=True,\n",
        "      vertical_flip=True,\n",
        "      fill_mode='nearest')\n",
        "\n",
        "val_datagen = ImageDataGenerator(rescale=1/255.)\n",
        "\n",
        "ds_train = train_datagen.flow_from_dataframe(train_df,\n",
        "                                             #directory=train_path, #dataframe contains the full paths\n",
        "                                             x_col = 'image',\n",
        "                                             y_col = 'class',\n",
        "                                             target_size = (IMG_SIZE, IMG_SIZE),\n",
        "                                             class_mode = 'binary',\n",
        "                                             batch_size = BATCH,\n",
        "                                             seed = SEED)\n",
        "\n",
        "ds_val = val_datagen.flow_from_dataframe(val_df,\n",
        "                                            #directory=train_path,\n",
        "                                            x_col = 'image',\n",
        "                                            y_col = 'class',\n",
        "                                            target_size = (IMG_SIZE, IMG_SIZE),\n",
        "                                            class_mode = 'binary',\n",
        "                                            batch_size = BATCH,\n",
        "                                            seed = SEED)\n",
        "\n",
        "ds_test = val_datagen.flow_from_dataframe(df_test,\n",
        "                                            #directory=test_path,\n",
        "                                            x_col = 'image',\n",
        "                                            y_col = 'class',\n",
        "                                            target_size = (IMG_SIZE, IMG_SIZE),\n",
        "                                            class_mode = 'binary',\n",
        "                                            batch_size = 1,\n",
        "                                            shuffle = False)"
      ]
    },
    {
      "cell_type": "code",
      "execution_count": null,
      "metadata": {
        "id": "vXAiH-u789Lu"
      },
      "outputs": [],
      "source": [
        "early_stopping = callbacks.EarlyStopping(\n",
        "    monitor='val_loss',\n",
        "    patience=5,\n",
        "    min_delta=1e-7,\n",
        "    restore_best_weights=True,\n",
        ")\n",
        "\n",
        "plateau = callbacks.ReduceLROnPlateau(\n",
        "    monitor='val_loss',\n",
        "    factor = 0.2,                                     \n",
        "    patience = 2,                                   \n",
        "    min_delt = 1e-7,                                \n",
        "    cooldown = 0,                               \n",
        "    verbose = 1\n",
        ") "
      ]
    },
    {
      "cell_type": "code",
      "execution_count": null,
      "metadata": {
        "id": "VTzcHBQB9Ci2"
      },
      "outputs": [],
      "source": [
        "def get_model():\n",
        "    \n",
        "    #Input shape = [width, height, color channels]\n",
        "    inputs = layers.Input(shape=(IMG_SIZE, IMG_SIZE, 3))\n",
        "    \n",
        "    # Block One\n",
        "    x = layers.Conv2D(filters=16, kernel_size=3, padding='valid')(inputs)\n",
        "    #x = layers.BatchNormalization()(x)\n",
        "    x = layers.Activation('relu')(x)\n",
        "    x = layers.MaxPool2D()(x)\n",
        "\n",
        "    # Block Three\n",
        "    x = layers.Conv2D(filters=32, kernel_size=3, padding='valid')(x)\n",
        "    x = layers.BatchNormalization()(x)\n",
        "    x = layers.Activation('relu')(x)\n",
        "    x = layers.MaxPool2D()(x)\n",
        "    \n",
        "    # Block Five\n",
        "    x = layers.Conv2D(filters=64, kernel_size=3, padding='valid')(x)\n",
        "    x = layers.Conv2D(filters=64, kernel_size=3, padding='valid')(x)\n",
        "    #x = layers.BatchNormalization()(x)\n",
        "    x = layers.Activation('relu')(x)\n",
        "    x = layers.MaxPool2D()(x)\n",
        "    x = layers.Dropout(0.2)(x)\n",
        "\n",
        "    # Head\n",
        "    #x = layers.BatchNormalization()(x)\n",
        "    x = layers.Flatten()(x)\n",
        "    x = layers.Dense(64, activation='relu')(x)\n",
        "    x = layers.Dropout(0.1)(x)\n",
        "    \n",
        "    #Final Layer (Output)\n",
        "    output = layers.Dense(1, activation='sigmoid')(x)\n",
        "    \n",
        "    model = keras.Model(inputs=[inputs], outputs=output)\n",
        "    \n",
        "    return model"
      ]
    },
    {
      "cell_type": "code",
      "execution_count": null,
      "metadata": {
        "colab": {
          "base_uri": "https://localhost:8080/"
        },
        "id": "-6f0t7UB9H9-",
        "outputId": "ce28278b-4b8d-4c60-acf6-737e433f6bc1"
      },
      "outputs": [
        {
          "output_type": "stream",
          "name": "stdout",
          "text": [
            "Model: \"model\"\n",
            "_________________________________________________________________\n",
            " Layer (type)                Output Shape              Param #   \n",
            "=================================================================\n",
            " input_1 (InputLayer)        [(None, 224, 224, 3)]     0         \n",
            "                                                                 \n",
            " conv2d (Conv2D)             (None, 222, 222, 16)      448       \n",
            "                                                                 \n",
            " activation (Activation)     (None, 222, 222, 16)      0         \n",
            "                                                                 \n",
            " max_pooling2d (MaxPooling2D  (None, 111, 111, 16)     0         \n",
            " )                                                               \n",
            "                                                                 \n",
            " conv2d_1 (Conv2D)           (None, 109, 109, 32)      4640      \n",
            "                                                                 \n",
            " batch_normalization (BatchN  (None, 109, 109, 32)     128       \n",
            " ormalization)                                                   \n",
            "                                                                 \n",
            " activation_1 (Activation)   (None, 109, 109, 32)      0         \n",
            "                                                                 \n",
            " max_pooling2d_1 (MaxPooling  (None, 54, 54, 32)       0         \n",
            " 2D)                                                             \n",
            "                                                                 \n",
            " conv2d_2 (Conv2D)           (None, 52, 52, 64)        18496     \n",
            "                                                                 \n",
            " conv2d_3 (Conv2D)           (None, 50, 50, 64)        36928     \n",
            "                                                                 \n",
            " activation_2 (Activation)   (None, 50, 50, 64)        0         \n",
            "                                                                 \n",
            " max_pooling2d_2 (MaxPooling  (None, 25, 25, 64)       0         \n",
            " 2D)                                                             \n",
            "                                                                 \n",
            " dropout (Dropout)           (None, 25, 25, 64)        0         \n",
            "                                                                 \n",
            " flatten (Flatten)           (None, 40000)             0         \n",
            "                                                                 \n",
            " dense (Dense)               (None, 64)                2560064   \n",
            "                                                                 \n",
            " dropout_1 (Dropout)         (None, 64)                0         \n",
            "                                                                 \n",
            " dense_1 (Dense)             (None, 1)                 65        \n",
            "                                                                 \n",
            "=================================================================\n",
            "Total params: 2,620,769\n",
            "Trainable params: 2,620,705\n",
            "Non-trainable params: 64\n",
            "_________________________________________________________________\n"
          ]
        }
      ],
      "source": [
        "keras.backend.clear_session()\n",
        "\n",
        "model = get_model()\n",
        "model.compile(loss='binary_crossentropy'\n",
        "              , optimizer = keras.optimizers.Adam(learning_rate=0.0001), metrics='binary_accuracy')\n",
        "\n",
        "model.summary()\n"
      ]
    },
    {
      "cell_type": "code",
      "execution_count": null,
      "metadata": {
        "colab": {
          "base_uri": "https://localhost:8080/"
        },
        "id": "T813h1qe9KlW",
        "outputId": "036c439d-9a9f-4d94-a60d-8eadf36988f8"
      },
      "outputs": [
        {
          "output_type": "stream",
          "name": "stdout",
          "text": [
            "Epoch 1/30\n",
            "19/19 [==============================] - 237s 12s/step - loss: 0.7278 - binary_accuracy: 0.5918 - val_loss: 0.6832 - val_binary_accuracy: 0.4810\n",
            "Epoch 2/30\n",
            "19/19 [==============================] - 10s 502ms/step - loss: 0.6290 - binary_accuracy: 0.6835 - val_loss: 0.6843 - val_binary_accuracy: 0.4937\n",
            "Epoch 3/30\n",
            "19/19 [==============================] - 10s 501ms/step - loss: 0.6263 - binary_accuracy: 0.6820 - val_loss: 0.6743 - val_binary_accuracy: 0.5000\n",
            "Epoch 4/30\n",
            "19/19 [==============================] - 10s 507ms/step - loss: 0.6261 - binary_accuracy: 0.6329 - val_loss: 0.6749 - val_binary_accuracy: 0.7342\n",
            "Epoch 5/30\n",
            "19/19 [==============================] - 10s 511ms/step - loss: 0.6056 - binary_accuracy: 0.6741 - val_loss: 0.6715 - val_binary_accuracy: 0.6582\n",
            "Epoch 6/30\n",
            "19/19 [==============================] - 10s 515ms/step - loss: 0.6092 - binary_accuracy: 0.6883 - val_loss: 0.6662 - val_binary_accuracy: 0.7278\n",
            "Epoch 7/30\n",
            "19/19 [==============================] - 10s 506ms/step - loss: 0.6004 - binary_accuracy: 0.6661 - val_loss: 0.6647 - val_binary_accuracy: 0.7342\n",
            "Epoch 8/30\n",
            "19/19 [==============================] - 12s 593ms/step - loss: 0.6187 - binary_accuracy: 0.6788 - val_loss: 0.6629 - val_binary_accuracy: 0.7152\n",
            "Epoch 9/30\n",
            "19/19 [==============================] - 10s 505ms/step - loss: 0.6123 - binary_accuracy: 0.6661 - val_loss: 0.6631 - val_binary_accuracy: 0.7089\n",
            "Epoch 10/30\n",
            "19/19 [==============================] - 10s 510ms/step - loss: 0.5846 - binary_accuracy: 0.7073 - val_loss: 0.6523 - val_binary_accuracy: 0.7468\n",
            "Epoch 11/30\n",
            "19/19 [==============================] - 10s 517ms/step - loss: 0.6044 - binary_accuracy: 0.6851 - val_loss: 0.6535 - val_binary_accuracy: 0.7342\n",
            "Epoch 12/30\n",
            "19/19 [==============================] - 10s 518ms/step - loss: 0.5976 - binary_accuracy: 0.6994 - val_loss: 0.6429 - val_binary_accuracy: 0.6772\n",
            "Epoch 13/30\n",
            "19/19 [==============================] - 10s 516ms/step - loss: 0.5983 - binary_accuracy: 0.6677 - val_loss: 0.6356 - val_binary_accuracy: 0.7278\n",
            "Epoch 14/30\n",
            "19/19 [==============================] - 10s 514ms/step - loss: 0.5957 - binary_accuracy: 0.6804 - val_loss: 0.6277 - val_binary_accuracy: 0.6835\n",
            "Epoch 15/30\n",
            "19/19 [==============================] - 10s 510ms/step - loss: 0.5975 - binary_accuracy: 0.6693 - val_loss: 0.6299 - val_binary_accuracy: 0.6519\n",
            "Epoch 16/30\n",
            "19/19 [==============================] - 10s 507ms/step - loss: 0.5989 - binary_accuracy: 0.6883 - val_loss: 0.6191 - val_binary_accuracy: 0.7152\n",
            "Epoch 17/30\n",
            "19/19 [==============================] - 10s 510ms/step - loss: 0.5786 - binary_accuracy: 0.7009 - val_loss: 0.6104 - val_binary_accuracy: 0.7278\n",
            "Epoch 18/30\n",
            "19/19 [==============================] - 10s 518ms/step - loss: 0.5956 - binary_accuracy: 0.6820 - val_loss: 0.6019 - val_binary_accuracy: 0.7405\n",
            "Epoch 19/30\n",
            "19/19 [==============================] - 10s 521ms/step - loss: 0.5855 - binary_accuracy: 0.6883 - val_loss: 0.6033 - val_binary_accuracy: 0.7152\n",
            "Epoch 20/30\n",
            "19/19 [==============================] - 10s 513ms/step - loss: 0.5933 - binary_accuracy: 0.6978 - val_loss: 0.6002 - val_binary_accuracy: 0.7025\n",
            "Epoch 21/30\n",
            "19/19 [==============================] - 10s 510ms/step - loss: 0.5876 - binary_accuracy: 0.7199 - val_loss: 0.6093 - val_binary_accuracy: 0.6709\n",
            "Epoch 22/30\n",
            "19/19 [==============================] - 10s 513ms/step - loss: 0.6263 - binary_accuracy: 0.6915 - val_loss: 0.6227 - val_binary_accuracy: 0.6709\n",
            "Epoch 23/30\n",
            "19/19 [==============================] - 10s 513ms/step - loss: 0.6155 - binary_accuracy: 0.6741 - val_loss: 0.6257 - val_binary_accuracy: 0.6266\n",
            "Epoch 24/30\n",
            "19/19 [==============================] - 10s 533ms/step - loss: 0.5913 - binary_accuracy: 0.6867 - val_loss: 0.6149 - val_binary_accuracy: 0.6456\n",
            "Epoch 25/30\n",
            "19/19 [==============================] - 11s 570ms/step - loss: 0.6058 - binary_accuracy: 0.6835 - val_loss: 0.5829 - val_binary_accuracy: 0.7278\n",
            "Epoch 26/30\n",
            "19/19 [==============================] - 10s 507ms/step - loss: 0.5750 - binary_accuracy: 0.7041 - val_loss: 0.6061 - val_binary_accuracy: 0.6646\n",
            "Epoch 27/30\n",
            "19/19 [==============================] - 10s 515ms/step - loss: 0.5950 - binary_accuracy: 0.6788 - val_loss: 0.6192 - val_binary_accuracy: 0.6203\n",
            "Epoch 28/30\n",
            "19/19 [==============================] - 10s 510ms/step - loss: 0.5876 - binary_accuracy: 0.6788 - val_loss: 0.5658 - val_binary_accuracy: 0.7215\n",
            "Epoch 29/30\n",
            "19/19 [==============================] - 10s 516ms/step - loss: 0.5836 - binary_accuracy: 0.7057 - val_loss: 0.5705 - val_binary_accuracy: 0.7342\n",
            "Epoch 30/30\n",
            "19/19 [==============================] - 10s 510ms/step - loss: 0.6053 - binary_accuracy: 0.6962 - val_loss: 0.5940 - val_binary_accuracy: 0.6962\n"
          ]
        }
      ],
      "source": [
        "history = model.fit(ds_train,\n",
        "          batch_size = BATCH, epochs = 30,\n",
        "          validation_data=ds_val,\n",
        "          steps_per_epoch=(len(train_df)/BATCH),\n",
        "          validation_steps=(len(val_df)/BATCH));"
      ]
    },
    {
      "cell_type": "code",
      "execution_count": null,
      "metadata": {
        "colab": {
          "base_uri": "https://localhost:8080/"
        },
        "id": "THXFJ5AR_Zcd",
        "outputId": "b2b185bb-7325-4cd7-fe91-0aa19fcdba95"
      },
      "outputs": [
        {
          "output_type": "stream",
          "name": "stdout",
          "text": [
            "Val loss: 0.594022810459137\n",
            "Val accuracy: 0.6962025165557861\n"
          ]
        }
      ],
      "source": [
        "score = model.evaluate(ds_val, steps = len(val_df)/BATCH, verbose = 0)\n",
        "print('Val loss:', score[0])\n",
        "print('Val accuracy:', score[1])"
      ]
    },
    {
      "cell_type": "code",
      "execution_count": null,
      "metadata": {
        "colab": {
          "base_uri": "https://localhost:8080/"
        },
        "id": "43ZNevVp_ei9",
        "outputId": "c4be8aea-8cd5-48e4-d5b9-4a969c1631e2"
      },
      "outputs": [
        {
          "output_type": "stream",
          "name": "stdout",
          "text": [
            "Test loss: 0.5634387135505676\n",
            "Test accuracy: 0.7420814633369446\n"
          ]
        }
      ],
      "source": [
        "score = model.evaluate(ds_test, steps = len(df_test), verbose = 0)\n",
        "\n",
        "print('Test loss:', score[0])\n",
        "print('Test accuracy:', score[1])"
      ]
    },
    {
      "cell_type": "code",
      "source": [
        "from matplotlib import pyplot as plt\n",
        "plt.plot(history.history['binary_accuracy'])\n",
        "plt.plot(history.history['val_binary_accuracy'])\n",
        "plt.title('model accuracy')\n",
        "plt.ylabel('accuracy')\n",
        "plt.xlabel('epoch')\n",
        "plt.legend(['train', 'val'], loc='upper left')\n",
        "plt.show()"
      ],
      "metadata": {
        "id": "2BmBDh9FPBic",
        "colab": {
          "base_uri": "https://localhost:8080/",
          "height": 295
        },
        "outputId": "a740a410-afa8-4317-c4ae-7a244db2188a"
      },
      "execution_count": null,
      "outputs": [
        {
          "output_type": "display_data",
          "data": {
            "text/plain": [
              "<Figure size 432x288 with 1 Axes>"
            ],
            "image/png": "[encoded data removed]"
          },
          "metadata": {
            "needs_background": "light"
          }
        }
      ]
    },
    {
      "cell_type": "code",
      "source": [
        "plt.plot(history.history['loss'])\n",
        "plt.plot(history.history['val_loss'])\n",
        "plt.title('model loss')\n",
        "plt.ylabel('loss')\n",
        "plt.xlabel('epoch')\n",
        "plt.legend(['train', 'val'], loc='upper left')\n",
        "plt.show()"
      ],
      "metadata": {
        "colab": {
          "base_uri": "https://localhost:8080/",
          "height": 295
        },
        "id": "QXYuZ4bkPBfl",
        "outputId": "f07f85c2-6515-4d11-d322-a2e91b3d4517"
      },
      "execution_count": null,
      "outputs": [
        {
          "output_type": "display_data",
          "data": {
            "text/plain": [
              "<Figure size 432x288 with 1 Axes>"
            ],
            "image/png": "[encoded data removed]"
          },
          "metadata": {
            "needs_background": "light"
          }
        }
      ]
    },
    {
      "cell_type": "code",
      "execution_count": null,
      "metadata": {
        "id": "Z4-zfwIeQ77h"
      },
      "outputs": [],
      "source": [
        "#model.save('/workspace/CNN.h5')"
      ]
    },
    {
      "cell_type": "markdown",
      "metadata": {
        "id": "Tz47wTPc_z0W"
      },
      "source": [
        "TRANSFER LEARNING"
      ]
    },
    {
      "cell_type": "code",
      "execution_count": null,
      "metadata": {
        "colab": {
          "base_uri": "https://localhost:8080/"
        },
        "id": "8nF7NkPFQ77h",
        "outputId": "6ea4a9da-9c8e-46dc-f02a-f0c149d6fd58"
      },
      "outputs": [
        {
          "output_type": "stream",
          "name": "stdout",
          "text": [
            "Downloading data from https://storage.googleapis.com/tensorflow/keras-applications/resnet/resnet50_weights_tf_dim_ordering_tf_kernels_notop.h5\n",
            "94773248/94765736 [==============================] - 1s 0us/step\n",
            "94781440/94765736 [==============================] - 1s 0us/step\n"
          ]
        }
      ],
      "source": [
        "# Applying ResNet50\n",
        "base_model = tf.keras.applications.ResNet50(\n",
        "    weights='imagenet',\n",
        "    input_shape=(IMG_SIZE, IMG_SIZE, 3),\n",
        "    include_top=False)\n",
        "\n",
        "base_model.trainable = False\n",
        "\n",
        "def get_pretrained():\n",
        "    \n",
        "    #Input shape = [width, height, color channels]\n",
        "    inputs = layers.Input(shape=(IMG_SIZE, IMG_SIZE, 3))\n",
        "    \n",
        "    x = base_model(inputs)\n",
        "\n",
        "    # Head\n",
        "    x = layers.GlobalAveragePooling2D()(x)\n",
        "    x = layers.Dense(128, activation='relu')(x)\n",
        "    x = layers.Dropout(0.1)(x)\n",
        "    \n",
        "    #Final Layer (Output)\n",
        "    output = layers.Dense(1, activation='sigmoid')(x)\n",
        "    \n",
        "    model = keras.Model(inputs=[inputs], outputs=output)\n",
        "    \n",
        "    return model"
      ]
    },
    {
      "cell_type": "code",
      "execution_count": null,
      "metadata": {
        "colab": {
          "base_uri": "https://localhost:8080/"
        },
        "id": "ebJ0y3N2Q77h",
        "outputId": "7f941d16-7433-46c2-b86e-daa9be81f0fc"
      },
      "outputs": [
        {
          "output_type": "stream",
          "name": "stdout",
          "text": [
            "Model: \"model\"\n",
            "_________________________________________________________________\n",
            " Layer (type)                Output Shape              Param #   \n",
            "=================================================================\n",
            " input_1 (InputLayer)        [(None, 224, 224, 3)]     0         \n",
            "                                                                 \n",
            " resnet50 (Functional)       (None, 7, 7, 2048)        23587712  \n",
            "                                                                 \n",
            " global_average_pooling2d (G  (None, 2048)             0         \n",
            " lobalAveragePooling2D)                                          \n",
            "                                                                 \n",
            " dense (Dense)               (None, 128)               262272    \n",
            "                                                                 \n",
            " dropout (Dropout)           (None, 128)               0         \n",
            "                                                                 \n",
            " dense_1 (Dense)             (None, 1)                 129       \n",
            "                                                                 \n",
            "=================================================================\n",
            "Total params: 23,850,113\n",
            "Trainable params: 262,401\n",
            "Non-trainable params: 23,587,712\n",
            "_________________________________________________________________\n"
          ]
        }
      ],
      "source": [
        "keras.backend.clear_session()\n",
        "\n",
        "model_pretrained = get_pretrained()\n",
        "model_pretrained.compile(loss='binary_crossentropy'\n",
        "              , optimizer = keras.optimizers.Adam(learning_rate=5e-5), metrics='binary_accuracy')\n",
        "\n",
        "model_pretrained.summary()"
      ]
    },
    {
      "cell_type": "code",
      "execution_count": null,
      "metadata": {
        "colab": {
          "base_uri": "https://localhost:8080/"
        },
        "id": "g8n14vkuQ77i",
        "outputId": "18341488-dd7f-491a-cfa7-cc0d18b91bff"
      },
      "outputs": [
        {
          "output_type": "stream",
          "name": "stdout",
          "text": [
            "Epoch 1/50\n",
            "19/19 [==============================] - 17s 693ms/step - loss: 0.7055 - binary_accuracy: 0.4604 - val_loss: 0.6877 - val_binary_accuracy: 0.5253\n",
            "Epoch 2/50\n",
            "19/19 [==============================] - 11s 575ms/step - loss: 0.6974 - binary_accuracy: 0.5158 - val_loss: 0.6796 - val_binary_accuracy: 0.5759\n",
            "Epoch 3/50\n",
            "19/19 [==============================] - 11s 569ms/step - loss: 0.6808 - binary_accuracy: 0.6044 - val_loss: 0.6736 - val_binary_accuracy: 0.6392\n",
            "Epoch 4/50\n",
            "19/19 [==============================] - 12s 602ms/step - loss: 0.6796 - binary_accuracy: 0.5522 - val_loss: 0.6698 - val_binary_accuracy: 0.6392\n",
            "Epoch 5/50\n",
            "19/19 [==============================] - 12s 592ms/step - loss: 0.6775 - binary_accuracy: 0.5870 - val_loss: 0.6664 - val_binary_accuracy: 0.6772\n",
            "Epoch 6/50\n",
            "19/19 [==============================] - 12s 592ms/step - loss: 0.6681 - binary_accuracy: 0.5965 - val_loss: 0.6620 - val_binary_accuracy: 0.6329\n",
            "Epoch 7/50\n",
            "19/19 [==============================] - 11s 578ms/step - loss: 0.6669 - binary_accuracy: 0.6076 - val_loss: 0.6580 - val_binary_accuracy: 0.6962\n",
            "Epoch 8/50\n",
            "19/19 [==============================] - 12s 585ms/step - loss: 0.6606 - binary_accuracy: 0.6424 - val_loss: 0.6542 - val_binary_accuracy: 0.6709\n",
            "Epoch 9/50\n",
            "19/19 [==============================] - 11s 579ms/step - loss: 0.6639 - binary_accuracy: 0.6282 - val_loss: 0.6523 - val_binary_accuracy: 0.6329\n",
            "Epoch 10/50\n",
            "19/19 [==============================] - 13s 658ms/step - loss: 0.6642 - binary_accuracy: 0.6139 - val_loss: 0.6480 - val_binary_accuracy: 0.6709\n",
            "Epoch 11/50\n",
            "19/19 [==============================] - 12s 585ms/step - loss: 0.6552 - binary_accuracy: 0.6171 - val_loss: 0.6471 - val_binary_accuracy: 0.6392\n",
            "Epoch 12/50\n",
            "19/19 [==============================] - 12s 583ms/step - loss: 0.6553 - binary_accuracy: 0.6171 - val_loss: 0.6415 - val_binary_accuracy: 0.6772\n",
            "Epoch 13/50\n",
            "19/19 [==============================] - 11s 569ms/step - loss: 0.6621 - binary_accuracy: 0.6013 - val_loss: 0.6391 - val_binary_accuracy: 0.6646\n",
            "Epoch 14/50\n",
            "19/19 [==============================] - 11s 577ms/step - loss: 0.6569 - binary_accuracy: 0.6060 - val_loss: 0.6366 - val_binary_accuracy: 0.7089\n",
            "Epoch 15/50\n",
            "19/19 [==============================] - 11s 574ms/step - loss: 0.6439 - binary_accuracy: 0.6266 - val_loss: 0.6350 - val_binary_accuracy: 0.6772\n",
            "Epoch 16/50\n",
            "19/19 [==============================] - 11s 579ms/step - loss: 0.6533 - binary_accuracy: 0.6329 - val_loss: 0.6321 - val_binary_accuracy: 0.7152\n",
            "Epoch 17/50\n",
            "19/19 [==============================] - 11s 577ms/step - loss: 0.6458 - binary_accuracy: 0.6361 - val_loss: 0.6312 - val_binary_accuracy: 0.6772\n",
            "Epoch 18/50\n",
            "19/19 [==============================] - 11s 574ms/step - loss: 0.6462 - binary_accuracy: 0.6440 - val_loss: 0.6290 - val_binary_accuracy: 0.6772\n",
            "Epoch 19/50\n",
            "19/19 [==============================] - 11s 573ms/step - loss: 0.6472 - binary_accuracy: 0.6297 - val_loss: 0.6271 - val_binary_accuracy: 0.6772\n",
            "Epoch 20/50\n",
            "19/19 [==============================] - 11s 571ms/step - loss: 0.6415 - binary_accuracy: 0.6297 - val_loss: 0.6251 - val_binary_accuracy: 0.6899\n",
            "Epoch 21/50\n",
            "19/19 [==============================] - 11s 574ms/step - loss: 0.6440 - binary_accuracy: 0.6297 - val_loss: 0.6232 - val_binary_accuracy: 0.6772\n",
            "Epoch 22/50\n",
            "19/19 [==============================] - 13s 648ms/step - loss: 0.6444 - binary_accuracy: 0.6630 - val_loss: 0.6213 - val_binary_accuracy: 0.7089\n",
            "Epoch 23/50\n",
            "19/19 [==============================] - 11s 571ms/step - loss: 0.6513 - binary_accuracy: 0.6203 - val_loss: 0.6203 - val_binary_accuracy: 0.7025\n",
            "Epoch 24/50\n",
            "19/19 [==============================] - 11s 575ms/step - loss: 0.6398 - binary_accuracy: 0.6487 - val_loss: 0.6189 - val_binary_accuracy: 0.7089\n",
            "Epoch 25/50\n",
            "19/19 [==============================] - 11s 570ms/step - loss: 0.6453 - binary_accuracy: 0.6345 - val_loss: 0.6190 - val_binary_accuracy: 0.6772\n",
            "Epoch 26/50\n",
            "19/19 [==============================] - 12s 591ms/step - loss: 0.6349 - binary_accuracy: 0.6456 - val_loss: 0.6157 - val_binary_accuracy: 0.7089\n",
            "Epoch 27/50\n",
            "19/19 [==============================] - 11s 585ms/step - loss: 0.6308 - binary_accuracy: 0.6582 - val_loss: 0.6143 - val_binary_accuracy: 0.7025\n",
            "Epoch 28/50\n",
            "19/19 [==============================] - 12s 585ms/step - loss: 0.6486 - binary_accuracy: 0.6313 - val_loss: 0.6129 - val_binary_accuracy: 0.7025\n",
            "Epoch 29/50\n",
            "19/19 [==============================] - 11s 579ms/step - loss: 0.6286 - binary_accuracy: 0.6646 - val_loss: 0.6111 - val_binary_accuracy: 0.7025\n",
            "Epoch 30/50\n",
            "19/19 [==============================] - 11s 580ms/step - loss: 0.6279 - binary_accuracy: 0.6503 - val_loss: 0.6105 - val_binary_accuracy: 0.6899\n",
            "Epoch 31/50\n",
            "19/19 [==============================] - 11s 581ms/step - loss: 0.6303 - binary_accuracy: 0.6503 - val_loss: 0.6078 - val_binary_accuracy: 0.7089\n",
            "Epoch 32/50\n",
            "19/19 [==============================] - 13s 656ms/step - loss: 0.6404 - binary_accuracy: 0.6408 - val_loss: 0.6078 - val_binary_accuracy: 0.7089\n",
            "Epoch 33/50\n",
            "19/19 [==============================] - 11s 583ms/step - loss: 0.6400 - binary_accuracy: 0.6329 - val_loss: 0.6065 - val_binary_accuracy: 0.7089\n",
            "Epoch 34/50\n",
            "19/19 [==============================] - 11s 591ms/step - loss: 0.6256 - binary_accuracy: 0.6630 - val_loss: 0.6050 - val_binary_accuracy: 0.7152\n",
            "Epoch 35/50\n",
            "19/19 [==============================] - 11s 575ms/step - loss: 0.6380 - binary_accuracy: 0.6551 - val_loss: 0.6046 - val_binary_accuracy: 0.7089\n",
            "Epoch 36/50\n",
            "19/19 [==============================] - 11s 580ms/step - loss: 0.6263 - binary_accuracy: 0.6566 - val_loss: 0.6046 - val_binary_accuracy: 0.7025\n",
            "Epoch 37/50\n",
            "19/19 [==============================] - 11s 584ms/step - loss: 0.6198 - binary_accuracy: 0.6867 - val_loss: 0.6016 - val_binary_accuracy: 0.7089\n",
            "Epoch 38/50\n",
            "19/19 [==============================] - 11s 573ms/step - loss: 0.6241 - binary_accuracy: 0.6693 - val_loss: 0.6010 - val_binary_accuracy: 0.7089\n",
            "Epoch 39/50\n",
            "19/19 [==============================] - 12s 583ms/step - loss: 0.6190 - binary_accuracy: 0.6566 - val_loss: 0.6004 - val_binary_accuracy: 0.7025\n",
            "Epoch 40/50\n",
            "19/19 [==============================] - 12s 583ms/step - loss: 0.6224 - binary_accuracy: 0.6661 - val_loss: 0.6003 - val_binary_accuracy: 0.7025\n",
            "Epoch 41/50\n",
            "19/19 [==============================] - 11s 585ms/step - loss: 0.6214 - binary_accuracy: 0.6709 - val_loss: 0.5982 - val_binary_accuracy: 0.7025\n",
            "Epoch 42/50\n",
            "19/19 [==============================] - 11s 582ms/step - loss: 0.6260 - binary_accuracy: 0.6377 - val_loss: 0.5998 - val_binary_accuracy: 0.6899\n",
            "Epoch 43/50\n",
            "19/19 [==============================] - 11s 578ms/step - loss: 0.6502 - binary_accuracy: 0.6250 - val_loss: 0.5966 - val_binary_accuracy: 0.7089\n",
            "Epoch 44/50\n",
            "19/19 [==============================] - 13s 646ms/step - loss: 0.6277 - binary_accuracy: 0.6582 - val_loss: 0.5962 - val_binary_accuracy: 0.7152\n",
            "Epoch 45/50\n",
            "19/19 [==============================] - 11s 582ms/step - loss: 0.6164 - binary_accuracy: 0.6677 - val_loss: 0.5961 - val_binary_accuracy: 0.7152\n",
            "Epoch 46/50\n",
            "19/19 [==============================] - 12s 595ms/step - loss: 0.6145 - binary_accuracy: 0.6677 - val_loss: 0.5940 - val_binary_accuracy: 0.7025\n",
            "Epoch 47/50\n",
            "19/19 [==============================] - 11s 580ms/step - loss: 0.6198 - binary_accuracy: 0.6756 - val_loss: 0.5941 - val_binary_accuracy: 0.7152\n",
            "Epoch 48/50\n",
            "19/19 [==============================] - 11s 570ms/step - loss: 0.6269 - binary_accuracy: 0.6424 - val_loss: 0.5927 - val_binary_accuracy: 0.7152\n",
            "Epoch 49/50\n",
            "19/19 [==============================] - 11s 581ms/step - loss: 0.6130 - binary_accuracy: 0.6646 - val_loss: 0.5914 - val_binary_accuracy: 0.7089\n",
            "Epoch 50/50\n",
            "19/19 [==============================] - 11s 580ms/step - loss: 0.6281 - binary_accuracy: 0.6582 - val_loss: 0.5910 - val_binary_accuracy: 0.7152\n"
          ]
        }
      ],
      "source": [
        "history = model_pretrained.fit(ds_train,\n",
        "          batch_size = BATCH, epochs = 50,\n",
        "          validation_data=ds_val,\n",
        "          steps_per_epoch=(len(train_df)/BATCH),\n",
        "          validation_steps=(len(val_df)/BATCH));"
      ]
    },
    {
      "cell_type": "code",
      "execution_count": null,
      "metadata": {
        "id": "PmS9y5dbQ77i",
        "colab": {
          "base_uri": "https://localhost:8080/"
        },
        "outputId": "b707372c-1a8e-46de-e60b-59718fafd30e"
      },
      "outputs": [
        {
          "output_type": "stream",
          "name": "stdout",
          "text": [
            "Val loss: 0.5909779667854309\n",
            "Val accuracy: 0.7151898741722107\n"
          ]
        }
      ],
      "source": [
        "score = model_pretrained.evaluate(ds_val, steps = len(val_df)/BATCH, verbose = 0)\n",
        "print('Val loss:', score[0])\n",
        "print('Val accuracy:', score[1])"
      ]
    },
    {
      "cell_type": "code",
      "execution_count": null,
      "metadata": {
        "id": "8zIDwLOTQ77i",
        "colab": {
          "base_uri": "https://localhost:8080/"
        },
        "outputId": "c177679b-a483-47d4-913d-c6147077a342"
      },
      "outputs": [
        {
          "output_type": "stream",
          "name": "stdout",
          "text": [
            "Test loss: 0.5528906583786011\n",
            "Test accuracy: 0.8571428656578064\n"
          ]
        }
      ],
      "source": [
        "score = model_pretrained.evaluate(ds_test, steps = len(df_test)/BATCH, verbose = 0)\n",
        "print('Test loss:', score[0])\n",
        "print('Test accuracy:', score[1])"
      ]
    },
    {
      "cell_type": "code",
      "source": [
        "from matplotlib import pyplot as plt\n",
        "plt.plot(history.history['binary_accuracy'])\n",
        "plt.plot(history.history['val_binary_accuracy'])\n",
        "plt.title('model accuracy')\n",
        "plt.ylabel('accuracy')\n",
        "plt.xlabel('epoch')\n",
        "plt.legend(['train', 'val'], loc='upper left')\n",
        "plt.show()"
      ],
      "metadata": {
        "colab": {
          "base_uri": "https://localhost:8080/",
          "height": 295
        },
        "id": "Ww00fC6_PXk1",
        "outputId": "d81d77cc-a29a-4f4b-e584-46eb4866c5ac"
      },
      "execution_count": null,
      "outputs": [
        {
          "output_type": "display_data",
          "data": {
            "text/plain": [
              "<Figure size 432x288 with 1 Axes>"
            ],
            "image/png": "[encoded data removed]"
          },
          "metadata": {
            "needs_background": "light"
          }
        }
      ]
    },
    {
      "cell_type": "code",
      "source": [
        "plt.plot(history.history['loss'])\n",
        "plt.plot(history.history['val_loss'])\n",
        "plt.title('model loss')\n",
        "plt.ylabel('loss')\n",
        "plt.xlabel('epoch')\n",
        "plt.legend(['train', 'val'], loc='upper left')\n",
        "plt.show()"
      ],
      "metadata": {
        "colab": {
          "base_uri": "https://localhost:8080/",
          "height": 295
        },
        "id": "2d4ZyeKdPY5o",
        "outputId": "084db76a-08e3-4d3c-c30e-96017de1a17f"
      },
      "execution_count": null,
      "outputs": [
        {
          "output_type": "display_data",
          "data": {
            "text/plain": [
              "<Figure size 432x288 with 1 Axes>"
            ],
            "image/png": "[encoded data removed]"
          },
          "metadata": {
            "needs_background": "light"
          }
        }
      ]
    },
    {
      "cell_type": "code",
      "execution_count": null,
      "metadata": {
        "id": "AoQsr-L-Q77i"
      },
      "outputs": [],
      "source": [
        "#model_pretrained.save('/workspace/ResNet50.h5')"
      ]
    },
    {
      "cell_type": "code",
      "execution_count": null,
      "metadata": {
        "id": "VJ-VPP9I_ig-",
        "colab": {
          "base_uri": "https://localhost:8080/"
        },
        "outputId": "9ba5ecad-a3b3-4f93-c2c5-b406da5c233b"
      },
      "outputs": [
        {
          "output_type": "stream",
          "name": "stdout",
          "text": [
            "Downloading data from https://storage.googleapis.com/tensorflow/keras-applications/vgg16/vgg16_weights_tf_dim_ordering_tf_kernels_notop.h5\n",
            "58892288/58889256 [==============================] - 0s 0us/step\n",
            "58900480/58889256 [==============================] - 0s 0us/step\n"
          ]
        }
      ],
      "source": [
        "# Applying VGG16\n",
        "base_model = tf.keras.applications.VGG16(\n",
        "    weights='imagenet',\n",
        "    input_shape=(IMG_SIZE, IMG_SIZE, 3),\n",
        "    include_top=False)\n",
        "\n",
        "base_model.trainable = False\n",
        "\n",
        "def get_pretrained():\n",
        "    \n",
        "    #Input shape = [width, height, color channels]\n",
        "    inputs = layers.Input(shape=(IMG_SIZE, IMG_SIZE, 3))\n",
        "    \n",
        "    x = base_model(inputs)\n",
        "\n",
        "    # Head\n",
        "    x = layers.GlobalAveragePooling2D()(x)\n",
        "    x = layers.Dense(128, activation='relu')(x)\n",
        "    x = layers.Dropout(0.1)(x)\n",
        "    \n",
        "    #Final Layer (Output)\n",
        "    output = layers.Dense(1, activation='sigmoid')(x)\n",
        "    \n",
        "    model = keras.Model(inputs=[inputs], outputs=output)\n",
        "    \n",
        "    return model"
      ]
    },
    {
      "cell_type": "code",
      "execution_count": null,
      "metadata": {
        "id": "yiU7rdDq_36m",
        "colab": {
          "base_uri": "https://localhost:8080/"
        },
        "outputId": "94e87bde-cf2a-4cdf-ebc7-1576c6298ae6"
      },
      "outputs": [
        {
          "output_type": "stream",
          "name": "stdout",
          "text": [
            "Model: \"model\"\n",
            "_________________________________________________________________\n",
            " Layer (type)                Output Shape              Param #   \n",
            "=================================================================\n",
            " input_1 (InputLayer)        [(None, 224, 224, 3)]     0         \n",
            "                                                                 \n",
            " vgg16 (Functional)          (None, 7, 7, 512)         14714688  \n",
            "                                                                 \n",
            " global_average_pooling2d (G  (None, 512)              0         \n",
            " lobalAveragePooling2D)                                          \n",
            "                                                                 \n",
            " dense (Dense)               (None, 128)               65664     \n",
            "                                                                 \n",
            " dropout (Dropout)           (None, 128)               0         \n",
            "                                                                 \n",
            " dense_1 (Dense)             (None, 1)                 129       \n",
            "                                                                 \n",
            "=================================================================\n",
            "Total params: 14,780,481\n",
            "Trainable params: 65,793\n",
            "Non-trainable params: 14,714,688\n",
            "_________________________________________________________________\n"
          ]
        }
      ],
      "source": [
        "keras.backend.clear_session()\n",
        "\n",
        "model_pretrained = get_pretrained()\n",
        "model_pretrained.compile(loss='binary_crossentropy'\n",
        "              , optimizer = keras.optimizers.Adam(learning_rate=5e-5), metrics='binary_accuracy')\n",
        "\n",
        "model_pretrained.summary()"
      ]
    },
    {
      "cell_type": "code",
      "execution_count": null,
      "metadata": {
        "id": "QVOkpEBO_9iu",
        "colab": {
          "base_uri": "https://localhost:8080/"
        },
        "outputId": "cb445a4f-9f07-4ccf-f4b7-9ed03f08ec97"
      },
      "outputs": [
        {
          "output_type": "stream",
          "name": "stdout",
          "text": [
            "Epoch 1/50\n",
            "19/19 [==============================] - 23s 1s/step - loss: 0.6962 - binary_accuracy: 0.5411 - val_loss: 0.6880 - val_binary_accuracy: 0.5253\n",
            "Epoch 2/50\n",
            "19/19 [==============================] - 15s 741ms/step - loss: 0.6921 - binary_accuracy: 0.5063 - val_loss: 0.6844 - val_binary_accuracy: 0.5823\n",
            "Epoch 3/50\n",
            "19/19 [==============================] - 15s 741ms/step - loss: 0.6917 - binary_accuracy: 0.5190 - val_loss: 0.6813 - val_binary_accuracy: 0.6076\n",
            "Epoch 4/50\n",
            "19/19 [==============================] - 16s 805ms/step - loss: 0.6885 - binary_accuracy: 0.5475 - val_loss: 0.6784 - val_binary_accuracy: 0.6076\n",
            "Epoch 5/50\n",
            "19/19 [==============================] - 15s 742ms/step - loss: 0.6805 - binary_accuracy: 0.5791 - val_loss: 0.6757 - val_binary_accuracy: 0.6013\n",
            "Epoch 6/50\n",
            "19/19 [==============================] - 15s 739ms/step - loss: 0.6817 - binary_accuracy: 0.5870 - val_loss: 0.6728 - val_binary_accuracy: 0.6392\n",
            "Epoch 7/50\n",
            "19/19 [==============================] - 15s 748ms/step - loss: 0.6796 - binary_accuracy: 0.5649 - val_loss: 0.6701 - val_binary_accuracy: 0.6709\n",
            "Epoch 8/50\n",
            "19/19 [==============================] - 15s 740ms/step - loss: 0.6795 - binary_accuracy: 0.5649 - val_loss: 0.6675 - val_binary_accuracy: 0.6646\n",
            "Epoch 9/50\n",
            "19/19 [==============================] - 15s 743ms/step - loss: 0.6668 - binary_accuracy: 0.6171 - val_loss: 0.6648 - val_binary_accuracy: 0.6646\n",
            "Epoch 10/50\n",
            "19/19 [==============================] - 15s 739ms/step - loss: 0.6617 - binary_accuracy: 0.6392 - val_loss: 0.6620 - val_binary_accuracy: 0.6646\n",
            "Epoch 11/50\n",
            "19/19 [==============================] - 15s 741ms/step - loss: 0.6618 - binary_accuracy: 0.6187 - val_loss: 0.6587 - val_binary_accuracy: 0.6456\n",
            "Epoch 12/50\n",
            "19/19 [==============================] - 14s 735ms/step - loss: 0.6645 - binary_accuracy: 0.6044 - val_loss: 0.6562 - val_binary_accuracy: 0.6582\n",
            "Epoch 13/50\n",
            "19/19 [==============================] - 15s 744ms/step - loss: 0.6581 - binary_accuracy: 0.6361 - val_loss: 0.6548 - val_binary_accuracy: 0.6582\n",
            "Epoch 14/50\n",
            "19/19 [==============================] - 15s 755ms/step - loss: 0.6553 - binary_accuracy: 0.6282 - val_loss: 0.6518 - val_binary_accuracy: 0.6709\n",
            "Epoch 15/50\n",
            "19/19 [==============================] - 15s 749ms/step - loss: 0.6539 - binary_accuracy: 0.6282 - val_loss: 0.6500 - val_binary_accuracy: 0.6646\n",
            "Epoch 16/50\n",
            "19/19 [==============================] - 16s 818ms/step - loss: 0.6514 - binary_accuracy: 0.6408 - val_loss: 0.6482 - val_binary_accuracy: 0.6582\n",
            "Epoch 17/50\n",
            "19/19 [==============================] - 14s 735ms/step - loss: 0.6553 - binary_accuracy: 0.6313 - val_loss: 0.6455 - val_binary_accuracy: 0.6835\n",
            "Epoch 18/50\n",
            "19/19 [==============================] - 14s 733ms/step - loss: 0.6471 - binary_accuracy: 0.6377 - val_loss: 0.6443 - val_binary_accuracy: 0.6646\n",
            "Epoch 19/50\n",
            "19/19 [==============================] - 14s 732ms/step - loss: 0.6446 - binary_accuracy: 0.6503 - val_loss: 0.6423 - val_binary_accuracy: 0.6646\n",
            "Epoch 20/50\n",
            "19/19 [==============================] - 15s 738ms/step - loss: 0.6403 - binary_accuracy: 0.6646 - val_loss: 0.6401 - val_binary_accuracy: 0.6772\n",
            "Epoch 21/50\n",
            "19/19 [==============================] - 15s 738ms/step - loss: 0.6400 - binary_accuracy: 0.6503 - val_loss: 0.6391 - val_binary_accuracy: 0.6582\n",
            "Epoch 22/50\n",
            "19/19 [==============================] - 14s 737ms/step - loss: 0.6388 - binary_accuracy: 0.6614 - val_loss: 0.6373 - val_binary_accuracy: 0.6582\n",
            "Epoch 23/50\n",
            "19/19 [==============================] - 15s 735ms/step - loss: 0.6305 - binary_accuracy: 0.6519 - val_loss: 0.6364 - val_binary_accuracy: 0.6582\n",
            "Epoch 24/50\n",
            "19/19 [==============================] - 15s 741ms/step - loss: 0.6335 - binary_accuracy: 0.6741 - val_loss: 0.6341 - val_binary_accuracy: 0.6646\n",
            "Epoch 25/50\n",
            "19/19 [==============================] - 15s 741ms/step - loss: 0.6249 - binary_accuracy: 0.6788 - val_loss: 0.6322 - val_binary_accuracy: 0.6709\n",
            "Epoch 26/50\n",
            "19/19 [==============================] - 15s 770ms/step - loss: 0.6325 - binary_accuracy: 0.6566 - val_loss: 0.6311 - val_binary_accuracy: 0.6646\n",
            "Epoch 27/50\n",
            "19/19 [==============================] - 16s 799ms/step - loss: 0.6282 - binary_accuracy: 0.6598 - val_loss: 0.6285 - val_binary_accuracy: 0.6772\n",
            "Epoch 28/50\n",
            "19/19 [==============================] - 15s 744ms/step - loss: 0.6304 - binary_accuracy: 0.6756 - val_loss: 0.6268 - val_binary_accuracy: 0.6772\n",
            "Epoch 29/50\n",
            "19/19 [==============================] - 15s 746ms/step - loss: 0.6227 - binary_accuracy: 0.6709 - val_loss: 0.6258 - val_binary_accuracy: 0.6709\n",
            "Epoch 30/50\n",
            "19/19 [==============================] - 14s 731ms/step - loss: 0.6255 - binary_accuracy: 0.6582 - val_loss: 0.6254 - val_binary_accuracy: 0.6709\n",
            "Epoch 31/50\n",
            "19/19 [==============================] - 15s 749ms/step - loss: 0.6257 - binary_accuracy: 0.6899 - val_loss: 0.6226 - val_binary_accuracy: 0.6709\n",
            "Epoch 32/50\n",
            "19/19 [==============================] - 15s 746ms/step - loss: 0.6136 - binary_accuracy: 0.6994 - val_loss: 0.6229 - val_binary_accuracy: 0.6709\n",
            "Epoch 33/50\n",
            "19/19 [==============================] - 15s 744ms/step - loss: 0.6088 - binary_accuracy: 0.6835 - val_loss: 0.6202 - val_binary_accuracy: 0.6709\n",
            "Epoch 34/50\n",
            "19/19 [==============================] - 15s 744ms/step - loss: 0.6239 - binary_accuracy: 0.6709 - val_loss: 0.6199 - val_binary_accuracy: 0.6709\n",
            "Epoch 35/50\n",
            "19/19 [==============================] - 14s 729ms/step - loss: 0.6100 - binary_accuracy: 0.6883 - val_loss: 0.6184 - val_binary_accuracy: 0.6835\n",
            "Epoch 36/50\n",
            "19/19 [==============================] - 15s 737ms/step - loss: 0.6123 - binary_accuracy: 0.6946 - val_loss: 0.6182 - val_binary_accuracy: 0.6709\n",
            "Epoch 37/50\n",
            "19/19 [==============================] - 15s 735ms/step - loss: 0.6231 - binary_accuracy: 0.6725 - val_loss: 0.6156 - val_binary_accuracy: 0.6709\n",
            "Epoch 38/50\n",
            "19/19 [==============================] - 15s 745ms/step - loss: 0.6064 - binary_accuracy: 0.7041 - val_loss: 0.6128 - val_binary_accuracy: 0.6899\n",
            "Epoch 39/50\n",
            "19/19 [==============================] - 14s 737ms/step - loss: 0.6113 - binary_accuracy: 0.6741 - val_loss: 0.6121 - val_binary_accuracy: 0.6772\n",
            "Epoch 40/50\n",
            "19/19 [==============================] - 15s 749ms/step - loss: 0.6109 - binary_accuracy: 0.6867 - val_loss: 0.6125 - val_binary_accuracy: 0.6835\n",
            "Epoch 41/50\n",
            "19/19 [==============================] - 14s 736ms/step - loss: 0.5988 - binary_accuracy: 0.7041 - val_loss: 0.6112 - val_binary_accuracy: 0.6835\n",
            "Epoch 42/50\n",
            "19/19 [==============================] - 14s 731ms/step - loss: 0.6113 - binary_accuracy: 0.6867 - val_loss: 0.6121 - val_binary_accuracy: 0.6709\n",
            "Epoch 43/50\n",
            "19/19 [==============================] - 15s 739ms/step - loss: 0.6102 - binary_accuracy: 0.6930 - val_loss: 0.6076 - val_binary_accuracy: 0.6899\n",
            "Epoch 44/50\n",
            "19/19 [==============================] - 14s 729ms/step - loss: 0.6032 - binary_accuracy: 0.6962 - val_loss: 0.6085 - val_binary_accuracy: 0.6835\n",
            "Epoch 45/50\n",
            "19/19 [==============================] - 15s 737ms/step - loss: 0.5998 - binary_accuracy: 0.7041 - val_loss: 0.6047 - val_binary_accuracy: 0.7025\n",
            "Epoch 46/50\n",
            "19/19 [==============================] - 14s 730ms/step - loss: 0.6035 - binary_accuracy: 0.6835 - val_loss: 0.6073 - val_binary_accuracy: 0.6835\n",
            "Epoch 47/50\n",
            "19/19 [==============================] - 15s 775ms/step - loss: 0.6061 - binary_accuracy: 0.6899 - val_loss: 0.6055 - val_binary_accuracy: 0.6835\n",
            "Epoch 48/50\n",
            "19/19 [==============================] - 14s 734ms/step - loss: 0.6059 - binary_accuracy: 0.6930 - val_loss: 0.6018 - val_binary_accuracy: 0.7025\n",
            "Epoch 49/50\n",
            "19/19 [==============================] - 15s 753ms/step - loss: 0.6069 - binary_accuracy: 0.6883 - val_loss: 0.6053 - val_binary_accuracy: 0.6835\n",
            "Epoch 50/50\n",
            "19/19 [==============================] - 15s 745ms/step - loss: 0.5922 - binary_accuracy: 0.7057 - val_loss: 0.6046 - val_binary_accuracy: 0.6835\n"
          ]
        }
      ],
      "source": [
        "history = model_pretrained.fit(ds_train,\n",
        "          batch_size = BATCH, epochs = 50,\n",
        "          validation_data=ds_val,\n",
        "          steps_per_epoch=(len(train_df)/BATCH),\n",
        "          validation_steps=(len(val_df)/BATCH));"
      ]
    },
    {
      "cell_type": "code",
      "execution_count": null,
      "metadata": {
        "id": "tQXecMIGAIQe",
        "colab": {
          "base_uri": "https://localhost:8080/"
        },
        "outputId": "bac545b6-a1c0-4e79-a1c3-8f40d8b25d5b"
      },
      "outputs": [
        {
          "output_type": "stream",
          "name": "stdout",
          "text": [
            "Val loss: 0.604620635509491\n",
            "Val accuracy: 0.6835442781448364\n"
          ]
        }
      ],
      "source": [
        "score = model_pretrained.evaluate(ds_val, steps = len(val_df)/BATCH, verbose = 0)\n",
        "print('Val loss:', score[0])\n",
        "print('Val accuracy:', score[1])"
      ]
    },
    {
      "cell_type": "code",
      "execution_count": null,
      "metadata": {
        "id": "HzKU7gjqCFi2",
        "colab": {
          "base_uri": "https://localhost:8080/"
        },
        "outputId": "5f29af5e-4676-420d-f27e-b25cfafa8a03"
      },
      "outputs": [
        {
          "output_type": "stream",
          "name": "stdout",
          "text": [
            "Test loss: 0.5395398736000061\n",
            "Test accuracy: 0.8571428656578064\n"
          ]
        }
      ],
      "source": [
        "score = model_pretrained.evaluate(ds_test, steps = len(df_test)/BATCH, verbose = 0)\n",
        "print('Test loss:', score[0])\n",
        "print('Test accuracy:', score[1])"
      ]
    },
    {
      "cell_type": "code",
      "source": [
        "from matplotlib import pyplot as plt\n",
        "plt.plot(history.history['binary_accuracy'])\n",
        "plt.plot(history.history['val_binary_accuracy'])\n",
        "plt.title('model accuracy')\n",
        "plt.ylabel('accuracy')\n",
        "plt.xlabel('epoch')\n",
        "plt.legend(['train', 'val'], loc='upper left')\n",
        "plt.show()"
      ],
      "metadata": {
        "colab": {
          "base_uri": "https://localhost:8080/",
          "height": 295
        },
        "id": "WQqOwrqMPh-m",
        "outputId": "eb713eba-0c9c-421a-a060-a35f195c4c08"
      },
      "execution_count": null,
      "outputs": [
        {
          "output_type": "display_data",
          "data": {
            "text/plain": [
              "<Figure size 432x288 with 1 Axes>"
            ],
            "image/png": "[encoded data removed]"
          },
          "metadata": {
            "needs_background": "light"
          }
        }
      ]
    },
    {
      "cell_type": "code",
      "source": [
        "plt.plot(history.history['loss'])\n",
        "plt.plot(history.history['val_loss'])\n",
        "plt.title('model loss')\n",
        "plt.ylabel('loss')\n",
        "plt.xlabel('epoch')\n",
        "plt.legend(['train', 'val'], loc='upper left')\n",
        "plt.show()"
      ],
      "metadata": {
        "colab": {
          "base_uri": "https://localhost:8080/",
          "height": 295
        },
        "id": "SEOPiUHWPh1k",
        "outputId": "1cb75361-257c-471d-a6e0-f772b3cf8977"
      },
      "execution_count": null,
      "outputs": [
        {
          "output_type": "display_data",
          "data": {
            "text/plain": [
              "<Figure size 432x288 with 1 Axes>"
            ],
            "image/png": "[encoded data removed]"
          },
          "metadata": {
            "needs_background": "light"
          }
        }
      ]
    },
    {
      "cell_type": "code",
      "execution_count": null,
      "metadata": {
        "id": "z4t8bFSEQ77j"
      },
      "outputs": [],
      "source": [
        "#model_pretrained.save('/workspace/vgg16.h5')"
      ]
    },
    {
      "cell_type": "markdown",
      "source": [
        "FINE TUNING"
      ],
      "metadata": {
        "id": "EXNIULuDfnZz"
      }
    },
    {
      "cell_type": "code",
      "execution_count": null,
      "metadata": {
        "id": "2CT1cUJYCFlp"
      },
      "outputs": [],
      "source": [
        "model_pretrained.trainable = True\n",
        "\n",
        "# Freeze all layers except for the\n",
        "for layer in model_pretrained.layers[:-13]:\n",
        "    layer.trainable = False"
      ]
    },
    {
      "cell_type": "code",
      "execution_count": null,
      "metadata": {
        "id": "F-cjWwIuCFpQ",
        "colab": {
          "base_uri": "https://localhost:8080/"
        },
        "outputId": "e7e90930-944b-406d-fc6a-14b7ba894959"
      },
      "outputs": [
        {
          "output_type": "stream",
          "name": "stdout",
          "text": [
            "0 input_1 True\n",
            "1 vgg16 True\n",
            "2 global_average_pooling2d True\n",
            "3 dense True\n",
            "4 dropout True\n",
            "5 dense_1 True\n"
          ]
        }
      ],
      "source": [
        "# Check which layers are tuneable (trainable)\n",
        "for layer_number, layer in enumerate(model_pretrained.layers):\n",
        "    print(layer_number, layer.name, layer.trainable)"
      ]
    },
    {
      "cell_type": "code",
      "execution_count": null,
      "metadata": {
        "id": "eHV_lVZSCFrV",
        "colab": {
          "base_uri": "https://localhost:8080/"
        },
        "outputId": "51aa36d9-1f1d-40d5-aab5-dba0c3b591a5"
      },
      "outputs": [
        {
          "output_type": "stream",
          "name": "stdout",
          "text": [
            "Model: \"model\"\n",
            "_________________________________________________________________\n",
            " Layer (type)                Output Shape              Param #   \n",
            "=================================================================\n",
            " input_1 (InputLayer)        [(None, 224, 224, 3)]     0         \n",
            "                                                                 \n",
            " vgg16 (Functional)          (None, 7, 7, 512)         14714688  \n",
            "                                                                 \n",
            " global_average_pooling2d (G  (None, 512)              0         \n",
            " lobalAveragePooling2D)                                          \n",
            "                                                                 \n",
            " dense (Dense)               (None, 128)               65664     \n",
            "                                                                 \n",
            " dropout (Dropout)           (None, 128)               0         \n",
            "                                                                 \n",
            " dense_1 (Dense)             (None, 1)                 129       \n",
            "                                                                 \n",
            "=================================================================\n",
            "Total params: 14,780,481\n",
            "Trainable params: 14,780,481\n",
            "Non-trainable params: 0\n",
            "_________________________________________________________________\n"
          ]
        }
      ],
      "source": [
        "model_pretrained.compile(loss='binary_crossentropy'\n",
        "              , optimizer = keras.optimizers.Adam(learning_rate=0.0001), metrics='binary_accuracy')\n",
        "\n",
        "model_pretrained.summary()"
      ]
    },
    {
      "cell_type": "code",
      "execution_count": null,
      "metadata": {
        "id": "xifmul1GCFtC",
        "colab": {
          "base_uri": "https://localhost:8080/"
        },
        "outputId": "a31c3659-bf95-418c-eb85-2a893ed83a2d"
      },
      "outputs": [
        {
          "output_type": "stream",
          "name": "stdout",
          "text": [
            "Epoch 1/50\n",
            "19/19 [==============================] - 30s 1s/step - loss: 0.7158 - binary_accuracy: 0.6282 - val_loss: 0.5843 - val_binary_accuracy: 0.6899\n",
            "Epoch 2/50\n",
            "19/19 [==============================] - 24s 1s/step - loss: 0.5808 - binary_accuracy: 0.7231 - val_loss: 0.5225 - val_binary_accuracy: 0.7595\n",
            "Epoch 3/50\n",
            "19/19 [==============================] - 24s 1s/step - loss: 0.5663 - binary_accuracy: 0.7104 - val_loss: 0.5230 - val_binary_accuracy: 0.7532\n",
            "Epoch 4/50\n",
            "19/19 [==============================] - 25s 1s/step - loss: 0.5426 - binary_accuracy: 0.7294 - val_loss: 0.5062 - val_binary_accuracy: 0.7595\n",
            "Epoch 5/50\n",
            "19/19 [==============================] - 24s 1s/step - loss: 0.5453 - binary_accuracy: 0.7326 - val_loss: 0.6338 - val_binary_accuracy: 0.6709\n",
            "Epoch 6/50\n",
            "19/19 [==============================] - 24s 1s/step - loss: 0.5614 - binary_accuracy: 0.7294 - val_loss: 0.5567 - val_binary_accuracy: 0.7342\n",
            "Epoch 7/50\n",
            "19/19 [==============================] - 24s 1s/step - loss: 0.5639 - binary_accuracy: 0.7294 - val_loss: 0.5509 - val_binary_accuracy: 0.7089\n",
            "Epoch 8/50\n",
            "19/19 [==============================] - 24s 1s/step - loss: 0.5604 - binary_accuracy: 0.7073 - val_loss: 0.5086 - val_binary_accuracy: 0.7278\n",
            "Epoch 9/50\n",
            "19/19 [==============================] - 24s 1s/step - loss: 0.5470 - binary_accuracy: 0.7373 - val_loss: 0.5188 - val_binary_accuracy: 0.7089\n",
            "Epoch 10/50\n",
            "19/19 [==============================] - 25s 1s/step - loss: 0.5444 - binary_accuracy: 0.7231 - val_loss: 0.5026 - val_binary_accuracy: 0.7468\n",
            "Epoch 11/50\n",
            "19/19 [==============================] - 24s 1s/step - loss: 0.5266 - binary_accuracy: 0.7532 - val_loss: 0.4959 - val_binary_accuracy: 0.7532\n",
            "Epoch 12/50\n",
            "19/19 [==============================] - 24s 1s/step - loss: 0.5164 - binary_accuracy: 0.7500 - val_loss: 0.4927 - val_binary_accuracy: 0.7722\n",
            "Epoch 13/50\n",
            "19/19 [==============================] - 24s 1s/step - loss: 0.5128 - binary_accuracy: 0.7532 - val_loss: 0.5222 - val_binary_accuracy: 0.7595\n",
            "Epoch 14/50\n",
            "19/19 [==============================] - 24s 1s/step - loss: 0.5202 - binary_accuracy: 0.7437 - val_loss: 0.5181 - val_binary_accuracy: 0.7405\n",
            "Epoch 15/50\n",
            "19/19 [==============================] - 24s 1s/step - loss: 0.5137 - binary_accuracy: 0.7421 - val_loss: 0.5417 - val_binary_accuracy: 0.7152\n",
            "Epoch 16/50\n",
            "19/19 [==============================] - 24s 1s/step - loss: 0.5257 - binary_accuracy: 0.7373 - val_loss: 0.5380 - val_binary_accuracy: 0.7405\n",
            "Epoch 17/50\n",
            "19/19 [==============================] - 24s 1s/step - loss: 0.5240 - binary_accuracy: 0.7421 - val_loss: 0.4763 - val_binary_accuracy: 0.7532\n",
            "Epoch 18/50\n",
            "19/19 [==============================] - 25s 1s/step - loss: 0.4838 - binary_accuracy: 0.7532 - val_loss: 0.5182 - val_binary_accuracy: 0.7532\n",
            "Epoch 19/50\n",
            "19/19 [==============================] - 24s 1s/step - loss: 0.4823 - binary_accuracy: 0.7753 - val_loss: 0.5123 - val_binary_accuracy: 0.7595\n",
            "Epoch 20/50\n",
            "19/19 [==============================] - 24s 1s/step - loss: 0.4884 - binary_accuracy: 0.7722 - val_loss: 0.5473 - val_binary_accuracy: 0.7152\n",
            "Epoch 21/50\n",
            "19/19 [==============================] - 24s 1s/step - loss: 0.4954 - binary_accuracy: 0.7579 - val_loss: 0.4915 - val_binary_accuracy: 0.7658\n",
            "Epoch 22/50\n",
            "19/19 [==============================] - 24s 1s/step - loss: 0.4720 - binary_accuracy: 0.7769 - val_loss: 0.5345 - val_binary_accuracy: 0.7278\n",
            "Epoch 23/50\n",
            "19/19 [==============================] - 24s 1s/step - loss: 0.4898 - binary_accuracy: 0.7706 - val_loss: 0.5152 - val_binary_accuracy: 0.7342\n",
            "Epoch 24/50\n",
            "19/19 [==============================] - 24s 1s/step - loss: 0.4970 - binary_accuracy: 0.7642 - val_loss: 0.5086 - val_binary_accuracy: 0.7532\n",
            "Epoch 25/50\n",
            "19/19 [==============================] - 24s 1s/step - loss: 0.4943 - binary_accuracy: 0.7658 - val_loss: 0.4956 - val_binary_accuracy: 0.7532\n",
            "Epoch 26/50\n",
            "19/19 [==============================] - 24s 1s/step - loss: 0.4766 - binary_accuracy: 0.7785 - val_loss: 0.5269 - val_binary_accuracy: 0.7278\n",
            "Epoch 27/50\n",
            "19/19 [==============================] - 24s 1s/step - loss: 0.4650 - binary_accuracy: 0.7864 - val_loss: 0.4753 - val_binary_accuracy: 0.8038\n",
            "Epoch 28/50\n",
            "19/19 [==============================] - 25s 1s/step - loss: 0.4566 - binary_accuracy: 0.7722 - val_loss: 0.4830 - val_binary_accuracy: 0.7722\n",
            "Epoch 29/50\n",
            "19/19 [==============================] - 24s 1s/step - loss: 0.4515 - binary_accuracy: 0.7816 - val_loss: 0.5277 - val_binary_accuracy: 0.7152\n",
            "Epoch 30/50\n",
            "19/19 [==============================] - 24s 1s/step - loss: 0.4657 - binary_accuracy: 0.7753 - val_loss: 0.5191 - val_binary_accuracy: 0.7785\n",
            "Epoch 31/50\n",
            "19/19 [==============================] - 24s 1s/step - loss: 0.4489 - binary_accuracy: 0.7801 - val_loss: 0.5125 - val_binary_accuracy: 0.7848\n",
            "Epoch 32/50\n",
            "19/19 [==============================] - 24s 1s/step - loss: 0.4378 - binary_accuracy: 0.7832 - val_loss: 0.5238 - val_binary_accuracy: 0.7595\n",
            "Epoch 33/50\n",
            "19/19 [==============================] - 24s 1s/step - loss: 0.4397 - binary_accuracy: 0.8022 - val_loss: 0.5209 - val_binary_accuracy: 0.7722\n",
            "Epoch 34/50\n",
            "19/19 [==============================] - 25s 1s/step - loss: 0.4443 - binary_accuracy: 0.7864 - val_loss: 0.5051 - val_binary_accuracy: 0.7722\n",
            "Epoch 35/50\n",
            "19/19 [==============================] - 24s 1s/step - loss: 0.4661 - binary_accuracy: 0.7911 - val_loss: 0.5275 - val_binary_accuracy: 0.7532\n",
            "Epoch 36/50\n",
            "19/19 [==============================] - 24s 1s/step - loss: 0.4597 - binary_accuracy: 0.7753 - val_loss: 0.5005 - val_binary_accuracy: 0.7658\n",
            "Epoch 37/50\n",
            "19/19 [==============================] - 24s 1s/step - loss: 0.4323 - binary_accuracy: 0.8070 - val_loss: 0.5036 - val_binary_accuracy: 0.7658\n",
            "Epoch 38/50\n",
            "19/19 [==============================] - 24s 1s/step - loss: 0.4240 - binary_accuracy: 0.8006 - val_loss: 0.5201 - val_binary_accuracy: 0.7468\n",
            "Epoch 39/50\n",
            "19/19 [==============================] - 24s 1s/step - loss: 0.4284 - binary_accuracy: 0.8006 - val_loss: 0.5446 - val_binary_accuracy: 0.7342\n",
            "Epoch 40/50\n",
            "19/19 [==============================] - 25s 1s/step - loss: 0.4071 - binary_accuracy: 0.8117 - val_loss: 0.6015 - val_binary_accuracy: 0.7342\n",
            "Epoch 41/50\n",
            "19/19 [==============================] - 24s 1s/step - loss: 0.4299 - binary_accuracy: 0.7816 - val_loss: 0.5676 - val_binary_accuracy: 0.7278\n",
            "Epoch 42/50\n",
            "19/19 [==============================] - 24s 1s/step - loss: 0.4305 - binary_accuracy: 0.8070 - val_loss: 0.5056 - val_binary_accuracy: 0.7722\n",
            "Epoch 43/50\n",
            "19/19 [==============================] - 24s 1s/step - loss: 0.4363 - binary_accuracy: 0.8117 - val_loss: 0.5254 - val_binary_accuracy: 0.7595\n",
            "Epoch 44/50\n",
            "19/19 [==============================] - 24s 1s/step - loss: 0.4315 - binary_accuracy: 0.8006 - val_loss: 0.5271 - val_binary_accuracy: 0.7532\n",
            "Epoch 45/50\n",
            "19/19 [==============================] - 24s 1s/step - loss: 0.4231 - binary_accuracy: 0.7975 - val_loss: 0.5067 - val_binary_accuracy: 0.7722\n",
            "Epoch 46/50\n",
            "19/19 [==============================] - 24s 1s/step - loss: 0.4063 - binary_accuracy: 0.8196 - val_loss: 0.5428 - val_binary_accuracy: 0.7215\n",
            "Epoch 47/50\n",
            "19/19 [==============================] - 24s 1s/step - loss: 0.4149 - binary_accuracy: 0.8070 - val_loss: 0.4843 - val_binary_accuracy: 0.7785\n",
            "Epoch 48/50\n",
            "19/19 [==============================] - 24s 1s/step - loss: 0.4050 - binary_accuracy: 0.8117 - val_loss: 0.5233 - val_binary_accuracy: 0.7785\n",
            "Epoch 49/50\n",
            "19/19 [==============================] - 24s 1s/step - loss: 0.4096 - binary_accuracy: 0.8085 - val_loss: 0.5609 - val_binary_accuracy: 0.7342\n",
            "Epoch 50/50\n",
            "19/19 [==============================] - 24s 1s/step - loss: 0.3862 - binary_accuracy: 0.8165 - val_loss: 0.5796 - val_binary_accuracy: 0.7278\n"
          ]
        }
      ],
      "source": [
        "history = model_pretrained.fit(ds_train,\n",
        "          batch_size = BATCH, epochs = 50,\n",
        "          validation_data=ds_val,\n",
        "          steps_per_epoch=(len(train_df)/BATCH),\n",
        "          validation_steps=(len(val_df)/BATCH));"
      ]
    },
    {
      "cell_type": "code",
      "execution_count": null,
      "metadata": {
        "id": "AMysptuFCF0_",
        "colab": {
          "base_uri": "https://localhost:8080/"
        },
        "outputId": "379cfe08-b2e4-4ce0-d8b5-0e3df3dd4c0b"
      },
      "outputs": [
        {
          "output_type": "stream",
          "name": "stdout",
          "text": [
            "Val loss: 0.5796148777008057\n",
            "Val accuracy: 0.7278481125831604\n"
          ]
        }
      ],
      "source": [
        "score =  model_pretrained.evaluate(ds_val, steps = len(val_df)/BATCH, verbose = 0)\n",
        "print('Val loss:', score[0])\n",
        "print('Val accuracy:', score[1])"
      ]
    },
    {
      "cell_type": "code",
      "execution_count": null,
      "metadata": {
        "id": "rcrsPomKCF6Y",
        "colab": {
          "base_uri": "https://localhost:8080/"
        },
        "outputId": "2504cb8c-a62a-4648-b2c6-4899d18e20b2"
      },
      "outputs": [
        {
          "output_type": "stream",
          "name": "stdout",
          "text": [
            "Test loss: 0.3917234539985657\n",
            "Test accuracy: 0.8416289687156677\n"
          ]
        }
      ],
      "source": [
        "score =  model_pretrained.evaluate(ds_test, steps = len(df_test), verbose = 0)\n",
        "print('Test loss:', score[0])\n",
        "print('Test accuracy:', score[1])"
      ]
    },
    {
      "cell_type": "code",
      "source": [
        "from matplotlib import pyplot as plt\n",
        "plt.plot(history.history['binary_accuracy'])\n",
        "plt.plot(history.history['val_binary_accuracy'])\n",
        "plt.title('model accuracy')\n",
        "plt.ylabel('accuracy')\n",
        "plt.xlabel('epoch')\n",
        "plt.legend(['train', 'val'], loc='upper left')\n",
        "plt.show()"
      ],
      "metadata": {
        "colab": {
          "base_uri": "https://localhost:8080/",
          "height": 295
        },
        "id": "5YQHGVsdPn4k",
        "outputId": "0ff695fd-2525-45cd-8b73-15fb7c6b8a14"
      },
      "execution_count": null,
      "outputs": [
        {
          "output_type": "display_data",
          "data": {
            "text/plain": [
              "<Figure size 432x288 with 1 Axes>"
            ],
            "image/png": "[encoded data removed]"
          },
          "metadata": {
            "needs_background": "light"
          }
        }
      ]
    },
    {
      "cell_type": "code",
      "source": [
        "plt.plot(history.history['loss'])\n",
        "plt.plot(history.history['val_loss'])\n",
        "plt.title('model loss')\n",
        "plt.ylabel('loss')\n",
        "plt.xlabel('epoch')\n",
        "plt.legend(['train', 'val'], loc='upper left')\n",
        "plt.show()"
      ],
      "metadata": {
        "colab": {
          "base_uri": "https://localhost:8080/",
          "height": 295
        },
        "id": "kfAwjALzPn18",
        "outputId": "f1c117e0-e917-4eb2-c74f-004619cb1298"
      },
      "execution_count": null,
      "outputs": [
        {
          "output_type": "display_data",
          "data": {
            "text/plain": [
              "<Figure size 432x288 with 1 Axes>"
            ],
            "image/png": "[encoded data removed]"
          },
          "metadata": {
            "needs_background": "light"
          }
        }
      ]
    },
    {
      "cell_type": "code",
      "source": [
        "#model_pretrained.save('/workspace/vgg16-finetune.h5')"
      ],
      "metadata": {
        "id": "FG7b3ffAVz8A"
      },
      "execution_count": null,
      "outputs": []
    },
    {
      "cell_type": "markdown",
      "metadata": {
        "id": "8XFURT8sChLX"
      },
      "source": [
        "PERFORMANCE MATRICES"
      ]
    },
    {
      "cell_type": "code",
      "execution_count": null,
      "metadata": {
        "id": "1o84qP7ACF9w"
      },
      "outputs": [],
      "source": [
        "num_label = {'Normal': 0, 'Abnormal' : 1}\n",
        "Y_test = df_test['class'].copy().map(num_label).astype('int')"
      ]
    },
    {
      "cell_type": "code",
      "execution_count": null,
      "metadata": {
        "id": "nglr5D1ECmwa"
      },
      "outputs": [],
      "source": [
        "ds_test.reset()\n",
        "predictions = model_pretrained.predict(ds_test, steps=len(ds_test), verbose=0)\n",
        "pred_labels= np.where(predictions>0.5, 1, 0)"
      ]
    },
    {
      "cell_type": "code",
      "execution_count": null,
      "metadata": {
        "id": "IPoEBcj7Cmzm",
        "colab": {
          "base_uri": "https://localhost:8080/"
        },
        "outputId": "019beb55-9445-4746-e447-095ebb17e732"
      },
      "outputs": [
        {
          "output_type": "stream",
          "name": "stdout",
          "text": [
            "Test Accuracy:  0.1583710407239819\n"
          ]
        }
      ],
      "source": [
        "print(\"Test Accuracy: \", accuracy_score(Y_test, pred_labels))"
      ]
    },
    {
      "cell_type": "code",
      "execution_count": null,
      "metadata": {
        "id": "ewTUsHJ0Cm1d",
        "colab": {
          "base_uri": "https://localhost:8080/",
          "height": 282
        },
        "outputId": "e10d0c43-b465-4a21-c2de-1c7a7b315706"
      },
      "outputs": [
        {
          "output_type": "display_data",
          "data": {
            "text/plain": [
              "<Figure size 432x288 with 2 Axes>"
            ],
            "image/png": "[encoded data removed]"
          },
          "metadata": {
            "needs_background": "light"
          }
        }
      ],
      "source": [
        "confusion_matrix = metrics.confusion_matrix(Y_test, pred_labels)\n",
        "sns.heatmap(confusion_matrix, annot=True, fmt=\"d\")\n",
        "\n",
        "plt.xlabel(\"Predicted Label\", fontsize= 12)\n",
        "plt.ylabel(\"True Label\", fontsize= 12)\n",
        "\n",
        "plt.show()"
      ]
    },
    {
      "cell_type": "code",
      "execution_count": null,
      "metadata": {
        "id": "ocBnYHVkCm3-",
        "colab": {
          "base_uri": "https://localhost:8080/"
        },
        "outputId": "70d76e96-e008-4e9a-ad20-70f01a1c22d4"
      },
      "outputs": [
        {
          "output_type": "stream",
          "name": "stdout",
          "text": [
            "              precision    recall  f1-score   support\n",
            "\n",
            "           0       0.16      0.24      0.19        91\n",
            "           1       0.16      0.10      0.12       130\n",
            "\n",
            "    accuracy                           0.16       221\n",
            "   macro avg       0.16      0.17      0.16       221\n",
            "weighted avg       0.16      0.16      0.15       221\n",
            "\n"
          ]
        }
      ],
      "source": [
        "print(metrics.classification_report(Y_test, pred_labels, labels = [0, 1]))"
      ]
    },
    {
      "cell_type": "code",
      "execution_count": null,
      "metadata": {
        "colab": {
          "base_uri": "https://localhost:8080/",
          "height": 299
        },
        "id": "Agjet8DFCm5w",
        "outputId": "2288abed-59cf-44b5-ced8-abff88ec6194"
      },
      "outputs": [
        {
          "output_type": "stream",
          "name": "stdout",
          "text": [
            "ROC_AUC:  0.08427726120033813\n"
          ]
        },
        {
          "output_type": "display_data",
          "data": {
            "text/plain": [
              "<Figure size 432x288 with 1 Axes>"
            ],
            "image/png": "[encoded data removed]"
          },
          "metadata": {
            "needs_background": "light"
          }
        }
      ],
      "source": [
        "roc_auc = metrics.roc_auc_score(Y_test, predictions)\n",
        "print('ROC_AUC: ', roc_auc)\n",
        "\n",
        "fpr, tpr, thresholds = metrics.roc_curve(Y_test, predictions)\n",
        "\n",
        "plt.plot(fpr, tpr, label = 'ROC_AUC = %0.3f' % roc_auc)\n",
        "\n",
        "plt.xlabel(\"False Positive Rate\", fontsize= 12)\n",
        "plt.ylabel(\"True Positive Rate\", fontsize= 12)\n",
        "plt.legend(loc=\"lower right\")\n",
        "\n",
        "plt.show()"
      ]
    },
    {
      "cell_type": "code",
      "execution_count": null,
      "metadata": {
        "id": "Cx10HGnBj7ry"
      },
      "outputs": [],
      "source": [
        ""
      ]
    }
  ],
  "metadata": {
    "accelerator": "GPU",
    "colab": {
      "name": "Pulmonary_classification_Model.ipynb",
      "provenance": [],
      "include_colab_link": true
    },
    "gpuClass": "standard",
    "kernelspec": {
      "display_name": "Python 3 (ipykernel)",
      "language": "python",
      "name": "python3"
    },
    "language_info": {
      "codemirror_mode": {
        "name": "ipython",
        "version": 3
      },
      "file_extension": ".py",
      "mimetype": "text/x-python",
      "name": "python",
      "nbconvert_exporter": "python",
      "pygments_lexer": "ipython3",
      "version": "3.8.10"
    }
  },
  "nbformat": 4,
  "nbformat_minor": 0
}
