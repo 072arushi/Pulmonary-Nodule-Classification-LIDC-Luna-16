{
  "cells": [
    {
      "cell_type": "markdown",
      "metadata": {
        "id": "view-in-github",
        "colab_type": "text"
      },
      "source": [
        "<a href=\"https://colab.research.google.com/github/072arushi/Pulmonary-Nodule-Classification-LIDC-Luna-16/blob/main/nodule_extraction.ipynb\" target=\"_parent\"><img src=\"https://colab.research.google.com/assets/colab-badge.svg\" alt=\"Open In Colab\"/></a>"
      ]
    },
    {
      "cell_type": "code",
      "execution_count": null,
      "metadata": {
        "id": "x8Qw8bxGECgL",
        "outputId": "a1b25599-4fcc-41c5-9701-3295a86686ca"
      },
      "outputs": [
        {
          "name": "stdout",
          "output_type": "stream",
          "text": [
            "31\n"
          ]
        }
      ],
      "source": [
        "import pylidc as pl\n",
        "    \n",
        "\n",
        "# Query for all CT scans with desired traits.\n",
        "scans = pl.query(pl.Scan).filter(pl.Scan.slice_thickness <= 1,\n",
        "                                 pl.Scan.pixel_spacing <= 0.6)\n",
        "print(scans.count())\n",
        "# => 31\n",
        "\n",
        "pid = 'LIDC-IDRI-0078'\n",
        "scan = pl.query(pl.Scan).filter(pl.Scan.patient_id == pid).first()"
      ]
    },
    {
      "cell_type": "code",
      "execution_count": null,
      "metadata": {
        "id": "odqy53ueECgQ",
        "outputId": "2504e157-bb31-464d-eb17-319d13c577b8"
      },
      "outputs": [
        {
          "name": "stdout",
          "output_type": "stream",
          "text": [
            "13\n"
          ]
        }
      ],
      "source": [
        "print(len(scan.annotations))\n",
        "# => 13"
      ]
    },
    {
      "cell_type": "code",
      "execution_count": null,
      "metadata": {
        "id": "8z8tsyFuECgR",
        "outputId": "1e5911d7-722b-4dfc-cb9f-a0cbee99d2e1"
      },
      "outputs": [
        {
          "name": "stdout",
          "output_type": "stream",
          "text": [
            "Scan(id=1,patient_id=LIDC-IDRI-0078) has 4 nodules.\n",
            "Nodule 1 has 4 annotations.\n",
            "Nodule 2 has 4 annotations.\n",
            "Nodule 3 has 1 annotations.\n",
            "Nodule 4 has 4 annotations.\n"
          ]
        }
      ],
      "source": [
        "nods = scan.cluster_annotations()\n",
        "\n",
        "print(\"%s has %d nodules.\" % (scan, len(nods)))\n",
        "# => Scan(id=1,patient_id=LIDC-IDRI-0078) has 4 nodules.\n",
        "\n",
        "for i,nod in enumerate(nods):\n",
        "    print(\"Nodule %d has %d annotations.\" % (i+1, len(nods[i])))\n",
        "# => Nodule 1 has 4 annotations.\n",
        "# => Nodule 2 has 4 annotations.\n",
        "# => Nodule 3 has 1 annotations.\n",
        "# => Nodule 4 has 4 annotations."
      ]
    },
    {
      "cell_type": "code",
      "execution_count": null,
      "metadata": {
        "id": "p_nF0_T8ECgS",
        "outputId": "7d7d4a22-5dbb-476c-81c6-dad69f0627ba"
      },
      "outputs": [
        {
          "name": "stdout",
          "output_type": "stream",
          "text": [
            "Loading dicom files ... This may take a moment.\n"
          ]
        },
        {
          "ename": "RuntimeError",
          "evalue": "Could not establish path to dicom files. Have you specified the `path` option in the configuration file C:\\Users\\EshaMehra\\pylidc.conf?",
          "output_type": "error",
          "traceback": [
            "\u001b[1;31m---------------------------------------------------------------------------\u001b[0m",
            "\u001b[1;31mRuntimeError\u001b[0m                              Traceback (most recent call last)",
            "\u001b[1;32m<ipython-input-22-fe06db3493f7>\u001b[0m in \u001b[0;36m<module>\u001b[1;34m\u001b[0m\n\u001b[1;32m----> 1\u001b[1;33m \u001b[0mvol\u001b[0m \u001b[1;33m=\u001b[0m \u001b[0mscan\u001b[0m\u001b[1;33m.\u001b[0m\u001b[0mto_volume\u001b[0m\u001b[1;33m(\u001b[0m\u001b[1;33m)\u001b[0m\u001b[1;33m\u001b[0m\u001b[1;33m\u001b[0m\u001b[0m\n\u001b[0m\u001b[0;32m      2\u001b[0m \u001b[0mprint\u001b[0m\u001b[1;33m(\u001b[0m\u001b[0mvol\u001b[0m\u001b[1;33m.\u001b[0m\u001b[0mshape\u001b[0m\u001b[1;33m)\u001b[0m\u001b[1;33m\u001b[0m\u001b[1;33m\u001b[0m\u001b[0m\n\u001b[0;32m      3\u001b[0m \u001b[1;31m# => (512, 512, 87)\u001b[0m\u001b[1;33m\u001b[0m\u001b[1;33m\u001b[0m\u001b[1;33m\u001b[0m\u001b[0m\n\u001b[0;32m      4\u001b[0m \u001b[1;33m\u001b[0m\u001b[0m\n\u001b[0;32m      5\u001b[0m \u001b[0mprint\u001b[0m\u001b[1;33m(\u001b[0m\u001b[1;34m\"%.2f, %.2f\"\u001b[0m \u001b[1;33m%\u001b[0m \u001b[1;33m(\u001b[0m\u001b[0mvol\u001b[0m\u001b[1;33m.\u001b[0m\u001b[0mmean\u001b[0m\u001b[1;33m(\u001b[0m\u001b[1;33m)\u001b[0m\u001b[1;33m,\u001b[0m \u001b[0mvol\u001b[0m\u001b[1;33m.\u001b[0m\u001b[0mstd\u001b[0m\u001b[1;33m(\u001b[0m\u001b[1;33m)\u001b[0m\u001b[1;33m)\u001b[0m\u001b[1;33m)\u001b[0m\u001b[1;33m\u001b[0m\u001b[1;33m\u001b[0m\u001b[0m\n",
            "\u001b[1;32m~\\Anaconda3\\envs\\newenv\\lib\\site-packages\\pylidc\\Scan.py\u001b[0m in \u001b[0;36mto_volume\u001b[1;34m(self, verbose)\u001b[0m\n\u001b[0;32m    637\u001b[0m         \u001b[0mReturn\u001b[0m \u001b[0mthe\u001b[0m \u001b[0mscan\u001b[0m \u001b[1;32mas\u001b[0m \u001b[0ma\u001b[0m \u001b[1;36m3\u001b[0m\u001b[0mD\u001b[0m \u001b[0mnumpy\u001b[0m \u001b[0marray\u001b[0m \u001b[0mvolume\u001b[0m\u001b[1;33m.\u001b[0m\u001b[1;33m\u001b[0m\u001b[1;33m\u001b[0m\u001b[0m\n\u001b[0;32m    638\u001b[0m         \"\"\"\n\u001b[1;32m--> 639\u001b[1;33m         \u001b[0mimages\u001b[0m \u001b[1;33m=\u001b[0m \u001b[0mself\u001b[0m\u001b[1;33m.\u001b[0m\u001b[0mload_all_dicom_images\u001b[0m\u001b[1;33m(\u001b[0m\u001b[0mverbose\u001b[0m\u001b[1;33m=\u001b[0m\u001b[0mverbose\u001b[0m\u001b[1;33m)\u001b[0m\u001b[1;33m\u001b[0m\u001b[1;33m\u001b[0m\u001b[0m\n\u001b[0m\u001b[0;32m    640\u001b[0m \u001b[1;33m\u001b[0m\u001b[0m\n\u001b[0;32m    641\u001b[0m         \u001b[0mvolume\u001b[0m \u001b[1;33m=\u001b[0m \u001b[0mnp\u001b[0m\u001b[1;33m.\u001b[0m\u001b[0mzeros\u001b[0m\u001b[1;33m(\u001b[0m\u001b[1;33m(\u001b[0m\u001b[1;36m512\u001b[0m\u001b[1;33m,\u001b[0m\u001b[1;36m512\u001b[0m\u001b[1;33m,\u001b[0m\u001b[0mlen\u001b[0m\u001b[1;33m(\u001b[0m\u001b[0mimages\u001b[0m\u001b[1;33m)\u001b[0m\u001b[1;33m)\u001b[0m\u001b[1;33m)\u001b[0m\u001b[1;33m\u001b[0m\u001b[1;33m\u001b[0m\u001b[0m\n",
            "\u001b[1;32m~\\Anaconda3\\envs\\newenv\\lib\\site-packages\\pylidc\\Scan.py\u001b[0m in \u001b[0;36mload_all_dicom_images\u001b[1;34m(self, verbose)\u001b[0m\n\u001b[0;32m    286\u001b[0m         \u001b[1;32mif\u001b[0m \u001b[0mverbose\u001b[0m\u001b[1;33m:\u001b[0m \u001b[0mprint\u001b[0m\u001b[1;33m(\u001b[0m\u001b[1;34m\"Loading dicom files ... This may take a moment.\"\u001b[0m\u001b[1;33m)\u001b[0m\u001b[1;33m\u001b[0m\u001b[1;33m\u001b[0m\u001b[0m\n\u001b[0;32m    287\u001b[0m \u001b[1;33m\u001b[0m\u001b[0m\n\u001b[1;32m--> 288\u001b[1;33m         \u001b[0mpath\u001b[0m \u001b[1;33m=\u001b[0m \u001b[0mself\u001b[0m\u001b[1;33m.\u001b[0m\u001b[0mget_path_to_dicom_files\u001b[0m\u001b[1;33m(\u001b[0m\u001b[1;33m)\u001b[0m\u001b[1;33m\u001b[0m\u001b[1;33m\u001b[0m\u001b[0m\n\u001b[0m\u001b[0;32m    289\u001b[0m         fnames = [fname for fname in os.listdir(path)\n\u001b[0;32m    290\u001b[0m                             if fname.endswith('.dcm')]\n",
            "\u001b[1;32m~\\Anaconda3\\envs\\newenv\\lib\\site-packages\\pylidc\\Scan.py\u001b[0m in \u001b[0;36mget_path_to_dicom_files\u001b[1;34m(self)\u001b[0m\n\u001b[0;32m    213\u001b[0m                    \u001b[1;34m\"specified the `path` option in the configuration \"\u001b[0m\u001b[1;33m\u001b[0m\u001b[1;33m\u001b[0m\u001b[0m\n\u001b[0;32m    214\u001b[0m                    \"file {}?\")\n\u001b[1;32m--> 215\u001b[1;33m             \u001b[1;32mraise\u001b[0m \u001b[0mRuntimeError\u001b[0m\u001b[1;33m(\u001b[0m\u001b[0mmsg\u001b[0m\u001b[1;33m.\u001b[0m\u001b[0mformat\u001b[0m\u001b[1;33m(\u001b[0m\u001b[0m_get_config_file\u001b[0m\u001b[1;33m(\u001b[0m\u001b[1;33m)\u001b[0m\u001b[1;33m)\u001b[0m\u001b[1;33m)\u001b[0m\u001b[1;33m\u001b[0m\u001b[1;33m\u001b[0m\u001b[0m\n\u001b[0m\u001b[0;32m    216\u001b[0m \u001b[1;33m\u001b[0m\u001b[0m\n\u001b[0;32m    217\u001b[0m         \u001b[0mbase\u001b[0m \u001b[1;33m=\u001b[0m \u001b[0mos\u001b[0m\u001b[1;33m.\u001b[0m\u001b[0mpath\u001b[0m\u001b[1;33m.\u001b[0m\u001b[0mjoin\u001b[0m\u001b[1;33m(\u001b[0m\u001b[0mdicompath\u001b[0m\u001b[1;33m,\u001b[0m \u001b[0mself\u001b[0m\u001b[1;33m.\u001b[0m\u001b[0mpatient_id\u001b[0m\u001b[1;33m)\u001b[0m\u001b[1;33m\u001b[0m\u001b[1;33m\u001b[0m\u001b[0m\n",
            "\u001b[1;31mRuntimeError\u001b[0m: Could not establish path to dicom files. Have you specified the `path` option in the configuration file C:\\Users\\EshaMehra\\pylidc.conf?"
          ]
        }
      ],
      "source": [
        "vol = scan.to_volume()\n",
        "print(vol.shape)\n",
        "# => (512, 512, 87)\n",
        "\n",
        "print(\"%.2f, %.2f\" % (vol.mean(), vol.std()))\n",
        "# => -702.15, 812.52"
      ]
    },
    {
      "cell_type": "code",
      "execution_count": null,
      "metadata": {
        "id": "MV5rkUdoECgT",
        "outputId": "4f1b3acb-2201-41ee-c6f8-c2edf9fcfbf1"
      },
      "outputs": [
        {
          "name": "stdout",
          "output_type": "stream",
          "text": [
            "91\n"
          ]
        }
      ],
      "source": [
        "anns = pl.query(pl.Annotation).filter(pl.Annotation.spiculation == 5,\n",
        "                                      pl.Annotation.malignancy == 5)\n",
        "print(anns.count())\n",
        "# => 91"
      ]
    },
    {
      "cell_type": "code",
      "execution_count": null,
      "metadata": {
        "id": "pi9Af39TECgU",
        "outputId": "5fe62c12-8e9f-43d1-bb80-8f476dc7a644"
      },
      "outputs": [
        {
          "name": "stdout",
          "output_type": "stream",
          "text": [
            "5 Highly Suspicious\n",
            "2 Near Poorly Defined\n"
          ]
        }
      ],
      "source": [
        "ann = pl.query(pl.Annotation)\\\n",
        "        .filter(pl.Annotation.malignancy == 5).first()\n",
        "\n",
        "print(ann.malignancy, ann.Malignancy)\n",
        "# => 5, 'Highly Suspicious'\n",
        "\n",
        "print(ann.margin, ann.Margin)\n",
        "# => 2, 'Near Poorly Defined'"
      ]
    },
    {
      "cell_type": "code",
      "execution_count": null,
      "metadata": {
        "id": "3bIQ82VsECgV",
        "outputId": "04a95ec7-c6dd-4ef3-a4cc-d84c24e626fc"
      },
      "outputs": [
        {
          "name": "stdout",
          "output_type": "stream",
          "text": [
            "Feature              Meaning                    # \n",
            "-                    -                          - \n",
            "Subtlety           | Obvious                  | 5 \n",
            "Internalstructure  | Soft Tissue              | 1 \n",
            "Calcification      | Absent                   | 6 \n",
            "Sphericity         | Ovoid/Round              | 4 \n",
            "Margin             | Near Poorly Defined      | 2 \n",
            "Lobulation         | Near Marked Lobulation   | 4 \n",
            "Spiculation        | No Spiculation           | 1 \n",
            "Texture            | Solid                    | 5 \n",
            "Malignancy         | Highly Suspicious        | 5 \n"
          ]
        }
      ],
      "source": [
        "ann.print_formatted_feature_table()"
      ]
    },
    {
      "cell_type": "code",
      "execution_count": null,
      "metadata": {
        "id": "z5LXvxN2ECgV",
        "outputId": "391f5f5f-0fcc-4593-b807-aa1f56650cee"
      },
      "outputs": [
        {
          "name": "stdout",
          "output_type": "stream",
          "text": [
            "(4,)\n",
            "True\n"
          ]
        }
      ],
      "source": [
        "svals = pl.query(pl.Annotation.spiculation)\\\n",
        "          .filter(pl.Annotation.spiculation > 3)\n",
        "\n",
        "print(svals[0])\n",
        "# => (4,)\n",
        "\n",
        "print(all([s[0] > 3 for s in svals]))\n",
        "# => True"
      ]
    },
    {
      "cell_type": "code",
      "execution_count": null,
      "metadata": {
        "id": "PxkEmksLECgW",
        "outputId": "2b377515-e43a-4558-d9f4-d3dfc06ff9cd"
      },
      "outputs": [
        {
          "name": "stdout",
          "output_type": "stream",
          "text": [
            "Contour(id=1,annotation_id=1)\n"
          ]
        }
      ],
      "source": [
        "ann = pl.query(pl.Annotation).first()\n",
        "contours = ann.contours\n",
        "\n",
        "print(contours[0])\n",
        "# => Contour(id=21,annotation_id=1)"
      ]
    },
    {
      "cell_type": "code",
      "execution_count": null,
      "metadata": {
        "id": "zD3RXyO4ECgX",
        "outputId": "4a03bdcc-70da-483b-a166-dc3792272f4b"
      },
      "outputs": [
        {
          "name": "stdout",
          "output_type": "stream",
          "text": [
            "20.84 mm, 1124.13 mm^2, 2439.30 mm^3\n"
          ]
        }
      ],
      "source": [
        "print(\"%.2f mm, %.2f mm^2, %.2f mm^3\" % (ann.diameter,\n",
        "                                         ann.surface_area,\n",
        "                                         ann.volume))\n",
        "# => 20.84 mm, 1242.74 mm^2, 2439.30 mm^3"
      ]
    },
    {
      "cell_type": "code",
      "execution_count": null,
      "metadata": {
        "id": "jHE1K5OiECgY",
        "outputId": "5cac18d3-b5cf-4568-b262-796a02798c58"
      },
      "outputs": [
        {
          "name": "stdout",
          "output_type": "stream",
          "text": [
            "(34, 27, 6) bool\n"
          ]
        }
      ],
      "source": [
        "mask = ann.boolean_mask()\n",
        "print(mask.shape, mask.dtype)\n",
        "# => (34, 27, 6), dtype('bool')"
      ]
    },
    {
      "cell_type": "code",
      "execution_count": null,
      "metadata": {
        "id": "aWSaQxwfECgY",
        "outputId": "934cc000-7e6e-4728-b45c-b4c3a3072357"
      },
      "outputs": [
        {
          "name": "stdout",
          "output_type": "stream",
          "text": [
            "(slice(151, 185, None), slice(349, 376, None), slice(44, 50, None))\n",
            "Loading dicom files ... This may take a moment.\n"
          ]
        },
        {
          "ename": "RuntimeError",
          "evalue": "Couldn't find DICOM files for Scan(id=1,patient_id=LIDC-IDRI-0078) in C:\\Users\\EshaMehra\\pylidc.conf\\LIDC-IDRI-0078",
          "output_type": "error",
          "traceback": [
            "\u001b[1;31m---------------------------------------------------------------------------\u001b[0m",
            "\u001b[1;31mRuntimeError\u001b[0m                              Traceback (most recent call last)",
            "\u001b[1;32m<ipython-input-17-8d2e7e8a3e07>\u001b[0m in \u001b[0;36m<module>\u001b[1;34m\u001b[0m\n\u001b[0;32m      3\u001b[0m \u001b[1;31m# => (slice(151, 185, None), slice(349, 376, None), slice(44, 50, None))\u001b[0m\u001b[1;33m\u001b[0m\u001b[1;33m\u001b[0m\u001b[1;33m\u001b[0m\u001b[0m\n\u001b[0;32m      4\u001b[0m \u001b[1;33m\u001b[0m\u001b[0m\n\u001b[1;32m----> 5\u001b[1;33m \u001b[0mvol\u001b[0m \u001b[1;33m=\u001b[0m \u001b[0mann\u001b[0m\u001b[1;33m.\u001b[0m\u001b[0mscan\u001b[0m\u001b[1;33m.\u001b[0m\u001b[0mto_volume\u001b[0m\u001b[1;33m(\u001b[0m\u001b[1;33m)\u001b[0m\u001b[1;33m\u001b[0m\u001b[1;33m\u001b[0m\u001b[0m\n\u001b[0m\u001b[0;32m      6\u001b[0m \u001b[0mprint\u001b[0m\u001b[1;33m(\u001b[0m\u001b[0mvol\u001b[0m\u001b[1;33m[\u001b[0m\u001b[0mbbox\u001b[0m\u001b[1;33m]\u001b[0m\u001b[1;33m.\u001b[0m\u001b[0mshape\u001b[0m\u001b[1;33m)\u001b[0m\u001b[1;33m\u001b[0m\u001b[1;33m\u001b[0m\u001b[0m\n\u001b[0;32m      7\u001b[0m \u001b[1;31m# => (34, 27, 6)\u001b[0m\u001b[1;33m\u001b[0m\u001b[1;33m\u001b[0m\u001b[1;33m\u001b[0m\u001b[0m\n",
            "\u001b[1;32m~\\Anaconda3\\envs\\newenv\\lib\\site-packages\\pylidc\\Scan.py\u001b[0m in \u001b[0;36mto_volume\u001b[1;34m(self, verbose)\u001b[0m\n\u001b[0;32m    637\u001b[0m         \u001b[0mReturn\u001b[0m \u001b[0mthe\u001b[0m \u001b[0mscan\u001b[0m \u001b[1;32mas\u001b[0m \u001b[0ma\u001b[0m \u001b[1;36m3\u001b[0m\u001b[0mD\u001b[0m \u001b[0mnumpy\u001b[0m \u001b[0marray\u001b[0m \u001b[0mvolume\u001b[0m\u001b[1;33m.\u001b[0m\u001b[1;33m\u001b[0m\u001b[1;33m\u001b[0m\u001b[0m\n\u001b[0;32m    638\u001b[0m         \"\"\"\n\u001b[1;32m--> 639\u001b[1;33m         \u001b[0mimages\u001b[0m \u001b[1;33m=\u001b[0m \u001b[0mself\u001b[0m\u001b[1;33m.\u001b[0m\u001b[0mload_all_dicom_images\u001b[0m\u001b[1;33m(\u001b[0m\u001b[0mverbose\u001b[0m\u001b[1;33m=\u001b[0m\u001b[0mverbose\u001b[0m\u001b[1;33m)\u001b[0m\u001b[1;33m\u001b[0m\u001b[1;33m\u001b[0m\u001b[0m\n\u001b[0m\u001b[0;32m    640\u001b[0m \u001b[1;33m\u001b[0m\u001b[0m\n\u001b[0;32m    641\u001b[0m         \u001b[0mvolume\u001b[0m \u001b[1;33m=\u001b[0m \u001b[0mnp\u001b[0m\u001b[1;33m.\u001b[0m\u001b[0mzeros\u001b[0m\u001b[1;33m(\u001b[0m\u001b[1;33m(\u001b[0m\u001b[1;36m512\u001b[0m\u001b[1;33m,\u001b[0m\u001b[1;36m512\u001b[0m\u001b[1;33m,\u001b[0m\u001b[0mlen\u001b[0m\u001b[1;33m(\u001b[0m\u001b[0mimages\u001b[0m\u001b[1;33m)\u001b[0m\u001b[1;33m)\u001b[0m\u001b[1;33m)\u001b[0m\u001b[1;33m\u001b[0m\u001b[1;33m\u001b[0m\u001b[0m\n",
            "\u001b[1;32m~\\Anaconda3\\envs\\newenv\\lib\\site-packages\\pylidc\\Scan.py\u001b[0m in \u001b[0;36mload_all_dicom_images\u001b[1;34m(self, verbose)\u001b[0m\n\u001b[0;32m    286\u001b[0m         \u001b[1;32mif\u001b[0m \u001b[0mverbose\u001b[0m\u001b[1;33m:\u001b[0m \u001b[0mprint\u001b[0m\u001b[1;33m(\u001b[0m\u001b[1;34m\"Loading dicom files ... This may take a moment.\"\u001b[0m\u001b[1;33m)\u001b[0m\u001b[1;33m\u001b[0m\u001b[1;33m\u001b[0m\u001b[0m\n\u001b[0;32m    287\u001b[0m \u001b[1;33m\u001b[0m\u001b[0m\n\u001b[1;32m--> 288\u001b[1;33m         \u001b[0mpath\u001b[0m \u001b[1;33m=\u001b[0m \u001b[0mself\u001b[0m\u001b[1;33m.\u001b[0m\u001b[0mget_path_to_dicom_files\u001b[0m\u001b[1;33m(\u001b[0m\u001b[1;33m)\u001b[0m\u001b[1;33m\u001b[0m\u001b[1;33m\u001b[0m\u001b[0m\n\u001b[0m\u001b[0;32m    289\u001b[0m         fnames = [fname for fname in os.listdir(path)\n\u001b[0;32m    290\u001b[0m                             if fname.endswith('.dcm')]\n",
            "\u001b[1;32m~\\Anaconda3\\envs\\newenv\\lib\\site-packages\\pylidc\\Scan.py\u001b[0m in \u001b[0;36mget_path_to_dicom_files\u001b[1;34m(self)\u001b[0m\n\u001b[0;32m    219\u001b[0m         \u001b[1;32mif\u001b[0m \u001b[1;32mnot\u001b[0m \u001b[0mos\u001b[0m\u001b[1;33m.\u001b[0m\u001b[0mpath\u001b[0m\u001b[1;33m.\u001b[0m\u001b[0mexists\u001b[0m\u001b[1;33m(\u001b[0m\u001b[0mbase\u001b[0m\u001b[1;33m)\u001b[0m\u001b[1;33m:\u001b[0m\u001b[1;33m\u001b[0m\u001b[1;33m\u001b[0m\u001b[0m\n\u001b[0;32m    220\u001b[0m             \u001b[0mmsg\u001b[0m \u001b[1;33m=\u001b[0m \u001b[1;34m\"Couldn't find DICOM files for {} in {}\"\u001b[0m\u001b[1;33m\u001b[0m\u001b[1;33m\u001b[0m\u001b[0m\n\u001b[1;32m--> 221\u001b[1;33m             \u001b[1;32mraise\u001b[0m \u001b[0mRuntimeError\u001b[0m\u001b[1;33m(\u001b[0m\u001b[0mmsg\u001b[0m\u001b[1;33m.\u001b[0m\u001b[0mformat\u001b[0m\u001b[1;33m(\u001b[0m\u001b[0mself\u001b[0m\u001b[1;33m,\u001b[0m \u001b[0mbase\u001b[0m\u001b[1;33m)\u001b[0m\u001b[1;33m)\u001b[0m\u001b[1;33m\u001b[0m\u001b[1;33m\u001b[0m\u001b[0m\n\u001b[0m\u001b[0;32m    222\u001b[0m \u001b[1;33m\u001b[0m\u001b[0m\n\u001b[0;32m    223\u001b[0m         path = os.path.join(base,\n",
            "\u001b[1;31mRuntimeError\u001b[0m: Couldn't find DICOM files for Scan(id=1,patient_id=LIDC-IDRI-0078) in C:\\Users\\EshaMehra\\pylidc.conf\\LIDC-IDRI-0078"
          ]
        }
      ],
      "source": [
        "bbox = ann.bbox()\n",
        "print(bbox)\n",
        "# => (slice(151, 185, None), slice(349, 376, None), slice(44, 50, None))\n",
        "\n",
        "vol = ann.scan.to_volume()\n",
        "print(vol[bbox].shape)\n",
        "# => (34, 27, 6)"
      ]
    },
    {
      "cell_type": "code",
      "execution_count": null,
      "metadata": {
        "id": "xykhEggRECgZ"
      },
      "outputs": [],
      "source": [
        ""
      ]
    }
  ],
  "metadata": {
    "kernelspec": {
      "display_name": "Python 3",
      "language": "python",
      "name": "python3"
    },
    "language_info": {
      "codemirror_mode": {
        "name": "ipython",
        "version": 3
      },
      "file_extension": ".py",
      "mimetype": "text/x-python",
      "name": "python",
      "nbconvert_exporter": "python",
      "pygments_lexer": "ipython3",
      "version": "3.6.10"
    },
    "colab": {
      "name": "nodule_extraction.ipynb",
      "provenance": [],
      "include_colab_link": true
    }
  },
  "nbformat": 4,
  "nbformat_minor": 0
}